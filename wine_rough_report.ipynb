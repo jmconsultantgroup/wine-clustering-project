{
 "cells": [
  {
   "cell_type": "markdown",
   "id": "b78aca90-7bd5-4a64-87f4-d8eeaef6fffd",
   "metadata": {},
   "source": [
    "# Wine Rough Report"
   ]
  },
  {
   "cell_type": "markdown",
   "id": "00e58824-daec-40cc-906c-cc781c5afb95",
   "metadata": {},
   "source": [
    "# test test"
   ]
  },
  {
   "cell_type": "markdown",
   "id": "c5d04db5-4c19-417b-bb2d-9e78b9f98bb4",
   "metadata": {},
   "source": [
    "# test 2"
   ]
  }
 ],
 "metadata": {
  "kernelspec": {
   "display_name": "Python 3 (ipykernel)",
   "language": "python",
   "name": "python3"
  },
  "language_info": {
   "codemirror_mode": {
    "name": "ipython",
    "version": 3
   },
   "file_extension": ".py",
   "mimetype": "text/x-python",
   "name": "python",
   "nbconvert_exporter": "python",
   "pygments_lexer": "ipython3",
   "version": "3.10.9"
  }
 },
 "nbformat": 4,
 "nbformat_minor": 5
}
