{
 "cells": [
  {
   "cell_type": "markdown",
   "id": "a887fef0",
   "metadata": {},
   "source": [
    "# Zillow Project - Predicting Property Tax Assessed Values"
   ]
  },
  {
   "cell_type": "markdown",
   "id": "0acc8d2f",
   "metadata": {},
   "source": [
    "# Goal:\n",
    "\n",
    "    -Predict home values in the Zillow dataset\n",
    "    -use key drivers to make a model that predicts what a home value will amount to."
   ]
  },
  {
   "cell_type": "code",
   "execution_count": 3,
   "id": "ce6a014f",
   "metadata": {},
   "outputs": [],
   "source": [
    "#import libraries\n",
    "import wrangle\n",
    "import explore\n",
    "import evaluate\n",
    "import pandas as pd\n",
    "import seaborn as sns\n",
    "import numpy as np\n",
    "import wrangle\n",
    "import matplotlib.pyplot as plt\n",
    "\n",
    "# modeling methods\n",
    "from scipy.stats import ttest_ind\n",
    "from scipy.stats import pearsonr\n",
    "from sklearn.metrics import mean_squared_error\n",
    "from sklearn.linear_model import LinearRegression, LassoLars, TweedieRegressor\n",
    "from sklearn.preprocessing import PolynomialFeatures\n",
    "from sklearn.metrics import explained_variance_score\n",
    "import warnings\n",
    "warnings.filterwarnings('ignore')"
   ]
  },
  {
   "cell_type": "markdown",
   "id": "543e3cfb",
   "metadata": {},
   "source": [
    "# Acquire\n",
    "    -Data acquired from Zillow Data Set\n",
    "    -It contained 52442 rows and 6 columns before cleaning\n",
    "    -Each row represents a single family property\n",
    "    -Each column represents a feature of that property\n",
    "    "
   ]
  },
  {
   "cell_type": "markdown",
   "id": "c0f264ef",
   "metadata": {},
   "source": [
    "#  Prepare\n",
    "\n",
    "### Prepare Actions:\n",
    "```\n",
    "Renamed columns to promote readability\n",
    "Checked for nulls in the data \n",
    "Checked that column data types were appropriate\n",
    "Encoded categorical variables\n",
    "Split data into train, validate and test (approx. 50/30/20)\n",
    "Scaled appropriate features\n",
    "Outliers have been removed for this iteration of the project\n",
    "\n",
    "```"
   ]
  },
  {
   "cell_type": "markdown",
   "id": "c15c9745",
   "metadata": {},
   "source": [
    "## Data Dictionary  \n",
    "\n",
    "\n",
    "#### Data Used\n",
    "---\n",
    "| Attribute | Definition | Data Type |\n",
    "| ----- | ----- | ----- |\n",
    "| bathroom_count | the amount of bathrooms in the home| float |\n",
    "| bedroom_count|the amount of bedrooms in the home | float |\n",
    "| calc_sqr_feet |the calculated square footage of the home|float |\n",
    "| tax_value |the home's value ($) | float |\n",
    "| county_code |the county code of the property |  float"
   ]
  },
  {
   "cell_type": "markdown",
   "id": "214736b3",
   "metadata": {},
   "source": [
    "## Quick Data Preview"
   ]
  },
  {
   "cell_type": "code",
   "execution_count": 4,
   "id": "1da5659d",
   "metadata": {},
   "outputs": [],
   "source": [
    "# split data into train, validate and test\n",
    "train, validate, test = wrangle.wrangle_zillow()"
   ]
  },
  {
   "cell_type": "code",
   "execution_count": 5,
   "id": "3a683488",
   "metadata": {},
   "outputs": [
    {
     "data": {
      "text/html": [
       "<div>\n",
       "<style scoped>\n",
       "    .dataframe tbody tr th:only-of-type {\n",
       "        vertical-align: middle;\n",
       "    }\n",
       "\n",
       "    .dataframe tbody tr th {\n",
       "        vertical-align: top;\n",
       "    }\n",
       "\n",
       "    .dataframe thead th {\n",
       "        text-align: right;\n",
       "    }\n",
       "</style>\n",
       "<table border=\"1\" class=\"dataframe\">\n",
       "  <thead>\n",
       "    <tr style=\"text-align: right;\">\n",
       "      <th></th>\n",
       "      <th>bedroom_count</th>\n",
       "      <th>bathroom_count</th>\n",
       "      <th>calc_sqr_feet</th>\n",
       "      <th>county_code</th>\n",
       "      <th>yearbuilt</th>\n",
       "      <th>tax_value</th>\n",
       "      <th>is_county_code_6037.0</th>\n",
       "      <th>is_county_code_6059.0</th>\n",
       "      <th>is_county_code_6111.0</th>\n",
       "    </tr>\n",
       "  </thead>\n",
       "  <tbody>\n",
       "    <tr>\n",
       "      <th>52422</th>\n",
       "      <td>3.0</td>\n",
       "      <td>3.0</td>\n",
       "      <td>1774.0</td>\n",
       "      <td>6037.0</td>\n",
       "      <td>1949.0</td>\n",
       "      <td>796324.0</td>\n",
       "      <td>1</td>\n",
       "      <td>0</td>\n",
       "      <td>0</td>\n",
       "    </tr>\n",
       "    <tr>\n",
       "      <th>37841</th>\n",
       "      <td>3.0</td>\n",
       "      <td>2.0</td>\n",
       "      <td>1575.0</td>\n",
       "      <td>6037.0</td>\n",
       "      <td>1977.0</td>\n",
       "      <td>138035.0</td>\n",
       "      <td>1</td>\n",
       "      <td>0</td>\n",
       "      <td>0</td>\n",
       "    </tr>\n",
       "    <tr>\n",
       "      <th>31409</th>\n",
       "      <td>4.0</td>\n",
       "      <td>2.0</td>\n",
       "      <td>1918.0</td>\n",
       "      <td>6059.0</td>\n",
       "      <td>1952.0</td>\n",
       "      <td>521000.0</td>\n",
       "      <td>0</td>\n",
       "      <td>1</td>\n",
       "      <td>0</td>\n",
       "    </tr>\n",
       "    <tr>\n",
       "      <th>3753</th>\n",
       "      <td>3.0</td>\n",
       "      <td>2.0</td>\n",
       "      <td>967.0</td>\n",
       "      <td>6037.0</td>\n",
       "      <td>1952.0</td>\n",
       "      <td>428000.0</td>\n",
       "      <td>1</td>\n",
       "      <td>0</td>\n",
       "      <td>0</td>\n",
       "    </tr>\n",
       "    <tr>\n",
       "      <th>24421</th>\n",
       "      <td>3.0</td>\n",
       "      <td>2.5</td>\n",
       "      <td>1281.0</td>\n",
       "      <td>6059.0</td>\n",
       "      <td>1983.0</td>\n",
       "      <td>257831.0</td>\n",
       "      <td>0</td>\n",
       "      <td>1</td>\n",
       "      <td>0</td>\n",
       "    </tr>\n",
       "  </tbody>\n",
       "</table>\n",
       "</div>"
      ],
      "text/plain": [
       "       bedroom_count  bathroom_count  calc_sqr_feet  county_code  yearbuilt  \\\n",
       "52422            3.0             3.0         1774.0       6037.0     1949.0   \n",
       "37841            3.0             2.0         1575.0       6037.0     1977.0   \n",
       "31409            4.0             2.0         1918.0       6059.0     1952.0   \n",
       "3753             3.0             2.0          967.0       6037.0     1952.0   \n",
       "24421            3.0             2.5         1281.0       6059.0     1983.0   \n",
       "\n",
       "       tax_value  is_county_code_6037.0  is_county_code_6059.0  \\\n",
       "52422   796324.0                      1                      0   \n",
       "37841   138035.0                      1                      0   \n",
       "31409   521000.0                      0                      1   \n",
       "3753    428000.0                      1                      0   \n",
       "24421   257831.0                      0                      1   \n",
       "\n",
       "       is_county_code_6111.0  \n",
       "52422                      0  \n",
       "37841                      0  \n",
       "31409                      0  \n",
       "3753                       0  \n",
       "24421                      0  "
      ]
     },
     "execution_count": 5,
     "metadata": {},
     "output_type": "execute_result"
    }
   ],
   "source": [
    "# this previews the training data\n",
    "train.head()"
   ]
  },
  {
   "cell_type": "code",
   "execution_count": 6,
   "id": "24e2bb64",
   "metadata": {},
   "outputs": [],
   "source": [
    "#splits into scaled data\n",
    "train_scaled, validate_scaled, test_scaled = wrangle.scale_data(train, validate, test)"
   ]
  },
  {
   "cell_type": "code",
   "execution_count": 7,
   "id": "30514ebb",
   "metadata": {},
   "outputs": [
    {
     "data": {
      "text/html": [
       "<div>\n",
       "<style scoped>\n",
       "    .dataframe tbody tr th:only-of-type {\n",
       "        vertical-align: middle;\n",
       "    }\n",
       "\n",
       "    .dataframe tbody tr th {\n",
       "        vertical-align: top;\n",
       "    }\n",
       "\n",
       "    .dataframe thead th {\n",
       "        text-align: right;\n",
       "    }\n",
       "</style>\n",
       "<table border=\"1\" class=\"dataframe\">\n",
       "  <thead>\n",
       "    <tr style=\"text-align: right;\">\n",
       "      <th></th>\n",
       "      <th>bedroom_count</th>\n",
       "      <th>bathroom_count</th>\n",
       "      <th>calc_sqr_feet</th>\n",
       "      <th>county_code</th>\n",
       "      <th>yearbuilt</th>\n",
       "      <th>tax_value</th>\n",
       "      <th>is_county_code_6037.0</th>\n",
       "      <th>is_county_code_6059.0</th>\n",
       "      <th>is_county_code_6111.0</th>\n",
       "    </tr>\n",
       "  </thead>\n",
       "  <tbody>\n",
       "    <tr>\n",
       "      <th>52422</th>\n",
       "      <td>0.0</td>\n",
       "      <td>0.50</td>\n",
       "      <td>0.254108</td>\n",
       "      <td>6037.0</td>\n",
       "      <td>0.422414</td>\n",
       "      <td>796324.0</td>\n",
       "      <td>1</td>\n",
       "      <td>0</td>\n",
       "      <td>0</td>\n",
       "    </tr>\n",
       "    <tr>\n",
       "      <th>37841</th>\n",
       "      <td>0.0</td>\n",
       "      <td>0.00</td>\n",
       "      <td>0.208054</td>\n",
       "      <td>6037.0</td>\n",
       "      <td>0.663793</td>\n",
       "      <td>138035.0</td>\n",
       "      <td>1</td>\n",
       "      <td>0</td>\n",
       "      <td>0</td>\n",
       "    </tr>\n",
       "    <tr>\n",
       "      <th>31409</th>\n",
       "      <td>0.5</td>\n",
       "      <td>0.00</td>\n",
       "      <td>0.287433</td>\n",
       "      <td>6059.0</td>\n",
       "      <td>0.448276</td>\n",
       "      <td>521000.0</td>\n",
       "      <td>0</td>\n",
       "      <td>1</td>\n",
       "      <td>0</td>\n",
       "    </tr>\n",
       "    <tr>\n",
       "      <th>3753</th>\n",
       "      <td>0.0</td>\n",
       "      <td>0.00</td>\n",
       "      <td>0.067346</td>\n",
       "      <td>6037.0</td>\n",
       "      <td>0.448276</td>\n",
       "      <td>428000.0</td>\n",
       "      <td>1</td>\n",
       "      <td>0</td>\n",
       "      <td>0</td>\n",
       "    </tr>\n",
       "    <tr>\n",
       "      <th>24421</th>\n",
       "      <td>0.0</td>\n",
       "      <td>0.25</td>\n",
       "      <td>0.140014</td>\n",
       "      <td>6059.0</td>\n",
       "      <td>0.715517</td>\n",
       "      <td>257831.0</td>\n",
       "      <td>0</td>\n",
       "      <td>1</td>\n",
       "      <td>0</td>\n",
       "    </tr>\n",
       "  </tbody>\n",
       "</table>\n",
       "</div>"
      ],
      "text/plain": [
       "       bedroom_count  bathroom_count  calc_sqr_feet  county_code  yearbuilt  \\\n",
       "52422            0.0            0.50       0.254108       6037.0   0.422414   \n",
       "37841            0.0            0.00       0.208054       6037.0   0.663793   \n",
       "31409            0.5            0.00       0.287433       6059.0   0.448276   \n",
       "3753             0.0            0.00       0.067346       6037.0   0.448276   \n",
       "24421            0.0            0.25       0.140014       6059.0   0.715517   \n",
       "\n",
       "       tax_value  is_county_code_6037.0  is_county_code_6059.0  \\\n",
       "52422   796324.0                      1                      0   \n",
       "37841   138035.0                      1                      0   \n",
       "31409   521000.0                      0                      1   \n",
       "3753    428000.0                      1                      0   \n",
       "24421   257831.0                      0                      1   \n",
       "\n",
       "       is_county_code_6111.0  \n",
       "52422                      0  \n",
       "37841                      0  \n",
       "31409                      0  \n",
       "3753                       0  \n",
       "24421                      0  "
      ]
     },
     "execution_count": 7,
     "metadata": {},
     "output_type": "execute_result"
    }
   ],
   "source": [
    "# previews train scaled data\n",
    "train_scaled.head()"
   ]
  },
  {
   "cell_type": "markdown",
   "id": "93618fc1",
   "metadata": {},
   "source": [
    "## Data Summary"
   ]
  },
  {
   "cell_type": "code",
   "execution_count": 8,
   "id": "f43c8c46",
   "metadata": {},
   "outputs": [
    {
     "data": {
      "text/html": [
       "<div>\n",
       "<style scoped>\n",
       "    .dataframe tbody tr th:only-of-type {\n",
       "        vertical-align: middle;\n",
       "    }\n",
       "\n",
       "    .dataframe tbody tr th {\n",
       "        vertical-align: top;\n",
       "    }\n",
       "\n",
       "    .dataframe thead th {\n",
       "        text-align: right;\n",
       "    }\n",
       "</style>\n",
       "<table border=\"1\" class=\"dataframe\">\n",
       "  <thead>\n",
       "    <tr style=\"text-align: right;\">\n",
       "      <th></th>\n",
       "      <th>bedroom_count</th>\n",
       "      <th>bathroom_count</th>\n",
       "      <th>calc_sqr_feet</th>\n",
       "      <th>county_code</th>\n",
       "      <th>yearbuilt</th>\n",
       "      <th>tax_value</th>\n",
       "      <th>is_county_code_6037.0</th>\n",
       "      <th>is_county_code_6059.0</th>\n",
       "      <th>is_county_code_6111.0</th>\n",
       "    </tr>\n",
       "  </thead>\n",
       "  <tbody>\n",
       "    <tr>\n",
       "      <th>count</th>\n",
       "      <td>20001.000000</td>\n",
       "      <td>20001.000000</td>\n",
       "      <td>20001.000000</td>\n",
       "      <td>20001.000000</td>\n",
       "      <td>20001.000000</td>\n",
       "      <td>2.000100e+04</td>\n",
       "      <td>20001.000000</td>\n",
       "      <td>20001.000000</td>\n",
       "      <td>20001.000000</td>\n",
       "    </tr>\n",
       "    <tr>\n",
       "      <th>mean</th>\n",
       "      <td>3.554422</td>\n",
       "      <td>2.485126</td>\n",
       "      <td>2007.005850</td>\n",
       "      <td>6050.757212</td>\n",
       "      <td>1968.529024</td>\n",
       "      <td>4.981890e+05</td>\n",
       "      <td>0.606770</td>\n",
       "      <td>0.295035</td>\n",
       "      <td>0.098195</td>\n",
       "    </tr>\n",
       "    <tr>\n",
       "      <th>std</th>\n",
       "      <td>0.637613</td>\n",
       "      <td>0.594614</td>\n",
       "      <td>684.713377</td>\n",
       "      <td>22.164770</td>\n",
       "      <td>20.592003</td>\n",
       "      <td>4.338768e+05</td>\n",
       "      <td>0.488479</td>\n",
       "      <td>0.456070</td>\n",
       "      <td>0.297586</td>\n",
       "    </tr>\n",
       "    <tr>\n",
       "      <th>min</th>\n",
       "      <td>3.000000</td>\n",
       "      <td>2.000000</td>\n",
       "      <td>676.000000</td>\n",
       "      <td>6037.000000</td>\n",
       "      <td>1900.000000</td>\n",
       "      <td>5.000100e+04</td>\n",
       "      <td>0.000000</td>\n",
       "      <td>0.000000</td>\n",
       "      <td>0.000000</td>\n",
       "    </tr>\n",
       "    <tr>\n",
       "      <th>25%</th>\n",
       "      <td>3.000000</td>\n",
       "      <td>2.000000</td>\n",
       "      <td>1479.000000</td>\n",
       "      <td>6037.000000</td>\n",
       "      <td>1955.000000</td>\n",
       "      <td>2.227410e+05</td>\n",
       "      <td>0.000000</td>\n",
       "      <td>0.000000</td>\n",
       "      <td>0.000000</td>\n",
       "    </tr>\n",
       "    <tr>\n",
       "      <th>50%</th>\n",
       "      <td>3.000000</td>\n",
       "      <td>2.000000</td>\n",
       "      <td>1849.000000</td>\n",
       "      <td>6037.000000</td>\n",
       "      <td>1965.000000</td>\n",
       "      <td>4.080000e+05</td>\n",
       "      <td>1.000000</td>\n",
       "      <td>0.000000</td>\n",
       "      <td>0.000000</td>\n",
       "    </tr>\n",
       "    <tr>\n",
       "      <th>75%</th>\n",
       "      <td>4.000000</td>\n",
       "      <td>3.000000</td>\n",
       "      <td>2404.000000</td>\n",
       "      <td>6059.000000</td>\n",
       "      <td>1984.000000</td>\n",
       "      <td>6.358000e+05</td>\n",
       "      <td>1.000000</td>\n",
       "      <td>1.000000</td>\n",
       "      <td>0.000000</td>\n",
       "    </tr>\n",
       "    <tr>\n",
       "      <th>max</th>\n",
       "      <td>5.000000</td>\n",
       "      <td>4.000000</td>\n",
       "      <td>4997.000000</td>\n",
       "      <td>6111.000000</td>\n",
       "      <td>2016.000000</td>\n",
       "      <td>5.000000e+06</td>\n",
       "      <td>1.000000</td>\n",
       "      <td>1.000000</td>\n",
       "      <td>1.000000</td>\n",
       "    </tr>\n",
       "  </tbody>\n",
       "</table>\n",
       "</div>"
      ],
      "text/plain": [
       "       bedroom_count  bathroom_count  calc_sqr_feet   county_code  \\\n",
       "count   20001.000000    20001.000000   20001.000000  20001.000000   \n",
       "mean        3.554422        2.485126    2007.005850   6050.757212   \n",
       "std         0.637613        0.594614     684.713377     22.164770   \n",
       "min         3.000000        2.000000     676.000000   6037.000000   \n",
       "25%         3.000000        2.000000    1479.000000   6037.000000   \n",
       "50%         3.000000        2.000000    1849.000000   6037.000000   \n",
       "75%         4.000000        3.000000    2404.000000   6059.000000   \n",
       "max         5.000000        4.000000    4997.000000   6111.000000   \n",
       "\n",
       "          yearbuilt     tax_value  is_county_code_6037.0  \\\n",
       "count  20001.000000  2.000100e+04           20001.000000   \n",
       "mean    1968.529024  4.981890e+05               0.606770   \n",
       "std       20.592003  4.338768e+05               0.488479   \n",
       "min     1900.000000  5.000100e+04               0.000000   \n",
       "25%     1955.000000  2.227410e+05               0.000000   \n",
       "50%     1965.000000  4.080000e+05               1.000000   \n",
       "75%     1984.000000  6.358000e+05               1.000000   \n",
       "max     2016.000000  5.000000e+06               1.000000   \n",
       "\n",
       "       is_county_code_6059.0  is_county_code_6111.0  \n",
       "count           20001.000000           20001.000000  \n",
       "mean                0.295035               0.098195  \n",
       "std                 0.456070               0.297586  \n",
       "min                 0.000000               0.000000  \n",
       "25%                 0.000000               0.000000  \n",
       "50%                 0.000000               0.000000  \n",
       "75%                 1.000000               0.000000  \n",
       "max                 1.000000               1.000000  "
      ]
     },
     "execution_count": 8,
     "metadata": {},
     "output_type": "execute_result"
    }
   ],
   "source": [
    "# provides a quick description of the data\n",
    "train.describe()"
   ]
  },
  {
   "cell_type": "markdown",
   "id": "21af930e",
   "metadata": {},
   "source": [
    "# Explore"
   ]
  },
  {
   "cell_type": "code",
   "execution_count": 9,
   "id": "8cdb1692",
   "metadata": {},
   "outputs": [],
   "source": [
    "# assign data frame to df variable\n",
    "df = train"
   ]
  },
  {
   "cell_type": "code",
   "execution_count": 10,
   "id": "c5b149b0",
   "metadata": {},
   "outputs": [
    {
     "name": "stdout",
     "output_type": "stream",
     "text": [
      "maximum home value in data is 5000000.0\n",
      "minimum home value in data is 50001.0\n"
     ]
    }
   ],
   "source": [
    "print('maximum home value in data is',train.tax_value.max())\n",
    "print('minimum home value in data is', train.tax_value.min())"
   ]
  },
  {
   "cell_type": "markdown",
   "id": "ab47d414",
   "metadata": {},
   "source": [
    "## Is bedroom count correlated with home value"
   ]
  },
  {
   "cell_type": "code",
   "execution_count": 11,
   "id": "b787721c",
   "metadata": {},
   "outputs": [
    {
     "data": {
      "image/png": "[encoded data removed]",
      "text/plain": [
       "<Figure size 640x480 with 1 Axes>"
      ]
     },
     "metadata": {},
     "output_type": "display_data"
    }
   ],
   "source": [
    "#this creates a scatterplot\n",
    "plt.scatter(train.bedroom_count, train.tax_value)\n",
    "plt.title(\"Is bedroom count correlated with home value\")\n",
    "plt.xlabel(\"Number of Bedrooms\")\n",
    "plt.ylabel(\"Home Value\")\n",
    "plt.xticks([3, 4, 5])\n",
    "plt.show()"
   ]
  },
  {
   "cell_type": "markdown",
   "id": "e017db7e",
   "metadata": {},
   "source": [
    " - Visually no apparent correlation between the number of bedrooms and home value\n",
    " "
   ]
  },
  {
   "cell_type": "markdown",
   "id": "bb97f496",
   "metadata": {},
   "source": [
    "#### I will now use a Pearsons R test to investigate whether number of bedrooms and the home value are correlated.\n",
    "\n",
    "- I will use a confidence interval of 95%\n",
    "- The resulting alpha is .05\n",
    "#### Ho: Number of bedrooms and Tax Value are not correlated.\n",
    "#### Ha: Number of bedrooms and Tax Value are correlated."
   ]
  },
  {
   "cell_type": "code",
   "execution_count": 12,
   "id": "748426e8",
   "metadata": {},
   "outputs": [
    {
     "name": "stdout",
     "output_type": "stream",
     "text": [
      "Pearson's correlation coefficient:  0.12600087159123213\n",
      "p-value:  1.4140299191343556e-71\n"
     ]
    }
   ],
   "source": [
    "# sets alpha\n",
    "alpha = 0.05\n",
    "bedroom_count = train['bedroom_count']\n",
    "tax_value = train['tax_value']\n",
    "\n",
    "# Perform Pearson's correlation test\n",
    "correlation, p_value = pearsonr(bedroom_count, tax_value)\n",
    "\n",
    "# Print the correlation coefficient and p-value\n",
    "print(\"Pearson's correlation coefficient: \", correlation)\n",
    "print(\"p-value: \", p_value)"
   ]
  },
  {
   "cell_type": "markdown",
   "id": "ca58f0f0",
   "metadata": {},
   "source": [
    "I can reject the null hypothesis which now means the number of bedrooms and Tax Value are correlated."
   ]
  },
  {
   "cell_type": "markdown",
   "id": "e54f6984",
   "metadata": {},
   "source": [
    "## Is bathroom count correlated with home value"
   ]
  },
  {
   "cell_type": "code",
   "execution_count": 13,
   "id": "4b22b975",
   "metadata": {},
   "outputs": [
    {
     "data": {
      "image/png": "[encoded data removed]",
      "text/plain": [
       "<Figure size 640x480 with 1 Axes>"
      ]
     },
     "metadata": {},
     "output_type": "display_data"
    }
   ],
   "source": [
    "#creates a scatter plot\n",
    "plt.scatter(train.bathroom_count, train.tax_value)\n",
    "plt.title(\"Is bathroom count correlated with home value\")\n",
    "plt.xlabel(\"Number of Bathrooms\")\n",
    "plt.ylabel(\"Home Value\")\n",
    "plt.xticks([2,2.5, 3,3.5, 4])\n",
    "plt.show()"
   ]
  },
  {
   "cell_type": "markdown",
   "id": "7da64ea0",
   "metadata": {},
   "source": [
    " - Visually, although moderate, there seems to be a correlation between the number of bathrooms and the home value as for each whole bath, the more bathrooms the higher the value\n",
    " "
   ]
  },
  {
   "cell_type": "markdown",
   "id": "bfa7feee",
   "metadata": {},
   "source": [
    "#### I will now use a Pearsons R test to investigate whether number of bathrooms and the home value are correlated.\n",
    "\n",
    "- I will use a confidence interval of 95%\n",
    "- The resulting alpha is .05\n",
    "#### Ho: Number of bathrooms and Tax Value are not correlated.\n",
    "#### Ha: Number of bathrooms and Tax Value are correlated."
   ]
  },
  {
   "cell_type": "code",
   "execution_count": 14,
   "id": "7a5eebe6",
   "metadata": {},
   "outputs": [
    {
     "name": "stdout",
     "output_type": "stream",
     "text": [
      "Pearson's correlation coefficient:  0.4075733892089148\n",
      "p-value:  0.0\n"
     ]
    }
   ],
   "source": [
    "#sets location of column to variable name\n",
    "bathroom_count = train['bathroom_count']\n",
    "tax_value = train['tax_value']\n",
    "\n",
    "# Perform Pearson's correlation test\n",
    "correlation, p_value = pearsonr(bathroom_count, tax_value)\n",
    "\n",
    "# Print the correlation coefficient and p-value\n",
    "print(\"Pearson's correlation coefficient: \", correlation)\n",
    "print(\"p-value: \", p_value)"
   ]
  },
  {
   "cell_type": "code",
   "execution_count": 15,
   "id": "490a80c8",
   "metadata": {},
   "outputs": [
    {
     "data": {
      "text/plain": [
       "True"
      ]
     },
     "execution_count": 15,
     "metadata": {},
     "output_type": "execute_result"
    }
   ],
   "source": [
    "#checks if pvalue is less than alpha\n",
    "p_value < alpha"
   ]
  },
  {
   "cell_type": "markdown",
   "id": "4dff3171",
   "metadata": {},
   "source": [
    "I can reject the null hypothesis which now means the number of bathrooms and Tax Value are correlated."
   ]
  },
  {
   "cell_type": "markdown",
   "id": "5214b753",
   "metadata": {},
   "source": [
    "## Is caclulated square feet correlated with home value"
   ]
  },
  {
   "cell_type": "code",
   "execution_count": 16,
   "id": "5267eccb",
   "metadata": {},
   "outputs": [
    {
     "data": {
      "image/png": "[encoded data removed]",
      "text/plain": [
       "<Figure size 640x480 with 1 Axes>"
      ]
     },
     "metadata": {},
     "output_type": "display_data"
    }
   ],
   "source": [
    "#creates a scatterplot to represent the data\n",
    "plt.scatter(train.calc_sqr_feet, train.tax_value)\n",
    "plt.title(\"Is square footage correlated with home value\")\n",
    "plt.xlabel(\"Number of square footage\")\n",
    "plt.ylabel(\"Home Value\")\n",
    "plt.show()"
   ]
  },
  {
   "cell_type": "markdown",
   "id": "5d50f4c1",
   "metadata": {},
   "source": [
    " - There appears to be a moderate correlation between calculated square feet and home value.\n",
    " "
   ]
  },
  {
   "cell_type": "markdown",
   "id": "4620bc7b",
   "metadata": {},
   "source": [
    "#### I will now use a Pearsons R test to investigate whether square footage and the home value are correlated.\n",
    "\n",
    "- I will use a confidence interval of 95%\n",
    "- The resulting alpha is .05\n",
    "#### Ho: Square feet and Tax Value are not correlated.\n",
    "#### Ha: Square feet and Tax Value are correlated."
   ]
  },
  {
   "cell_type": "code",
   "execution_count": 17,
   "id": "dbb4700f",
   "metadata": {},
   "outputs": [
    {
     "name": "stdout",
     "output_type": "stream",
     "text": [
      "Pearson's correlation coefficient:  0.48382078435308545\n",
      "p-value:  0.0\n"
     ]
    }
   ],
   "source": [
    "calc_sqr_feet = train['calc_sqr_feet']\n",
    "tax_value = train['tax_value']\n",
    "\n",
    "# Perform Pearson's correlation test\n",
    "correlation, p_value = pearsonr(calc_sqr_feet, tax_value)\n",
    "\n",
    "# Print the correlation coefficient and p-value\n",
    "print(\"Pearson's correlation coefficient: \", correlation)\n",
    "print(\"p-value: \", p_value)"
   ]
  },
  {
   "cell_type": "code",
   "execution_count": 18,
   "id": "09980fcd",
   "metadata": {},
   "outputs": [
    {
     "data": {
      "text/plain": [
       "True"
      ]
     },
     "execution_count": 18,
     "metadata": {},
     "output_type": "execute_result"
    }
   ],
   "source": [
    "p_value < alpha"
   ]
  },
  {
   "cell_type": "markdown",
   "id": "766732a5",
   "metadata": {},
   "source": [
    "I can reject the null hypothesis which now means Square footage and Tax Value are correlated."
   ]
  },
  {
   "cell_type": "markdown",
   "id": "ee4add6d",
   "metadata": {},
   "source": [
    "## Is the year the home was built correlate with home value"
   ]
  },
  {
   "cell_type": "code",
   "execution_count": 19,
   "id": "9bdc6783",
   "metadata": {
    "scrolled": true
   },
   "outputs": [
    {
     "data": {
      "image/png": "[encoded data removed]",
      "text/plain": [
       "<Figure size 640x480 with 1 Axes>"
      ]
     },
     "metadata": {},
     "output_type": "display_data"
    }
   ],
   "source": [
    "#creates a scatterplot to represent the data\n",
    "plt.scatter(train.yearbuilt, train.tax_value)\n",
    "plt.title(\"Is the year the home was built correlate with home value\")\n",
    "plt.xlabel(\"Year Built\")\n",
    "plt.ylabel(\"Home Value\")\n",
    "plt.show()"
   ]
  },
  {
   "cell_type": "markdown",
   "id": "dc0787cd",
   "metadata": {},
   "source": [
    " - The year built seems to raise the home value as the years increase, more so from 1900 to 1940\n",
    " "
   ]
  },
  {
   "cell_type": "markdown",
   "id": "95bba65f",
   "metadata": {},
   "source": [
    "#### I will now use a Pearsons R test to investigate whether year built and the home value are correlated.\n",
    "\n",
    "- I will use a confidence interval of 95%\n",
    "- The resulting alpha is .05\n",
    "#### Ho: Year Built and Tax Value are not correlated.\n",
    "#### Ha: Year Built and Tax Value are correlated."
   ]
  },
  {
   "cell_type": "code",
   "execution_count": 20,
   "id": "5c409534",
   "metadata": {},
   "outputs": [
    {
     "name": "stdout",
     "output_type": "stream",
     "text": [
      "Pearson's correlation coefficient:  0.07073110942105776\n",
      "p-value:  1.3088412810886062e-23\n"
     ]
    }
   ],
   "source": [
    "yearbuilt = train['yearbuilt']\n",
    "tax_value = train['tax_value']\n",
    "\n",
    "# Perform Pearson's correlation test\n",
    "correlation, p_value = pearsonr(yearbuilt, tax_value)\n",
    "\n",
    "# Print the correlation coefficient and p-value\n",
    "print(\"Pearson's correlation coefficient: \", correlation)\n",
    "print(\"p-value: \", p_value)"
   ]
  },
  {
   "cell_type": "code",
   "execution_count": 21,
   "id": "2a00ea24",
   "metadata": {},
   "outputs": [
    {
     "data": {
      "text/plain": [
       "True"
      ]
     },
     "execution_count": 21,
     "metadata": {},
     "output_type": "execute_result"
    }
   ],
   "source": [
    "#checks if pvalue is less than alpha\n",
    "p_value < alpha"
   ]
  },
  {
   "cell_type": "markdown",
   "id": "ddbd413a",
   "metadata": {},
   "source": [
    "I can reject the null hypothesis which now means Year Built and Tax Value are correlated."
   ]
  },
  {
   "cell_type": "markdown",
   "id": "f40529ec",
   "metadata": {},
   "source": [
    "## Does county code affect the home's value"
   ]
  },
  {
   "cell_type": "markdown",
   "id": "16e28bbd",
   "metadata": {},
   "source": [
    "#### Homes in data are all located in California in these counties : Los Angeles County, Orange County, and Ventura County "
   ]
  },
  {
   "cell_type": "markdown",
   "id": "b82221f9",
   "metadata": {},
   "source": [
    "county codes were researched and found from the following source \"https://en.wikipedia.org/wiki/List_of_United_States_FIPS_codes_by_county\""
   ]
  },
  {
   "cell_type": "markdown",
   "id": "beec7a6d",
   "metadata": {},
   "source": [
    "| County Code | County Name         | State       |\n",
    "| ----------- | ------------------ | ----------- |\n",
    "| 6059        | Orange County       | California  |\n",
    "| 6037        | Los Angeles County | California  |\n",
    "| 6111        | Ventura County      | California  |"
   ]
  },
  {
   "cell_type": "code",
   "execution_count": 22,
   "id": "e40ff778",
   "metadata": {
    "scrolled": false
   },
   "outputs": [
    {
     "data": {
      "image/png": "[encoded data removed]",
      "text/plain": [
       "<Figure size 640x480 with 1 Axes>"
      ]
     },
     "metadata": {},
     "output_type": "display_data"
    }
   ],
   "source": [
    "#creates a barplot to represent data\n",
    "sns.barplot(x='county_code', y='tax_value', data=train)\n",
    "plt.title(\"County Code by Home Value\")\n",
    "plt.xlabel(\"County Code\")\n",
    "plt.ylabel(\"Home Value\")\n",
    "plt.xticks(ticks=[0, 1, 2], labels=['Los Angeles', 'Orange County', 'Ventura'])\n",
    "plt.show()\n"
   ]
  },
  {
   "cell_type": "markdown",
   "id": "71951366",
   "metadata": {},
   "source": [
    " - The county code seems to be associated with home value as the average for Los Angeles and Ventura being around avg of 450,000, while Orange County is around 530,000."
   ]
  },
  {
   "cell_type": "markdown",
   "id": "d3a6b2fb",
   "metadata": {},
   "source": [
    "#### I will now use a independent t test to investigate whether county code and the home value.\n",
    "\n",
    "- I will use a confidence interval of 95%\n",
    "- The resulting alpha is .05\n",
    "#### Ho: County Code and Tax Value are not associated.\n",
    "#### Ha: County Code and Tax Value are associated."
   ]
  },
  {
   "cell_type": "code",
   "execution_count": 23,
   "id": "c44bd67c",
   "metadata": {},
   "outputs": [
    {
     "name": "stdout",
     "output_type": "stream",
     "text": [
      "T-statistic: -160.4155899143897\n",
      "P-value: 0.0\n"
     ]
    }
   ],
   "source": [
    "\n",
    "county_code = train['county_code']\n",
    "tax_value = train['tax_value']\n",
    "#runs a ttest\n",
    "t_statistic, p_value = ttest_ind(county_code, tax_value)\n",
    "\n",
    "print(\"T-statistic:\", t_statistic)\n",
    "print(\"P-value:\", p_value)"
   ]
  },
  {
   "cell_type": "code",
   "execution_count": 24,
   "id": "2b298146",
   "metadata": {},
   "outputs": [
    {
     "data": {
      "text/plain": [
       "True"
      ]
     },
     "execution_count": 24,
     "metadata": {},
     "output_type": "execute_result"
    }
   ],
   "source": [
    "p_value < alpha"
   ]
  },
  {
   "cell_type": "markdown",
   "id": "782ca548",
   "metadata": {},
   "source": [
    "I can reject the null hypothesis which now means County Code and Tax Value are associated."
   ]
  },
  {
   "cell_type": "markdown",
   "id": "7b508c2f",
   "metadata": {},
   "source": [
    "## Exploration Summary\n",
    "County code, square footage, year built, bathroom count and bedroom count were each found to be drivers of \"tax_value\"\n",
    "\n",
    "- Revisisting data for more reasonable number features in future especially with stronger correlations\n",
    "\n",
    "* All columns were found to be drivers of the home's value"
   ]
  },
  {
   "cell_type": "markdown",
   "id": "6aa359a7",
   "metadata": {},
   "source": [
    "## Features moving forward for modeling"
   ]
  },
  {
   "cell_type": "markdown",
   "id": "32358a15",
   "metadata": {},
   "source": [
    "- calc_sqr_feet - (relationship to the home's value is statistically significant)\n",
    "\n",
    "- bathroom_count - (relationship to the home's value is statistically significant)\n",
    "\n",
    "- bedroom_count -  (relationship to the home's value is statistically significant)\n",
    "\n",
    "- yearbuilt -  (relationship to the home's value is statistically significant)\n",
    "\n",
    "- county_code -  (relationship to the home's value is statistically significant)\n",
    "\n"
   ]
  },
  {
   "cell_type": "markdown",
   "id": "bdcd3226",
   "metadata": {},
   "source": [
    "## Features not moving forward for modeling"
   ]
  },
  {
   "cell_type": "markdown",
   "id": "29eef51f",
   "metadata": {},
   "source": [
    "No features left out for modeling"
   ]
  },
  {
   "cell_type": "markdown",
   "id": "80340c71",
   "metadata": {},
   "source": [
    "## Modeling"
   ]
  },
  {
   "cell_type": "markdown",
   "id": "912395c9",
   "metadata": {},
   "source": [
    "- I will use Root Mean Square Error(RMSE) as my evaluation metric"
   ]
  },
  {
   "cell_type": "markdown",
   "id": "2238047d",
   "metadata": {},
   "source": [
    "- by guessing a home's value for every home, one could achieve an RMSE of about $434,000. \n",
    "\n",
    "- $434,000 will be the baseline RMSE I use for this project\n",
    "- I will be evaluating models developed using four different model types.\n",
    "- Models will be evaluated on train and validate data \n",
    "- The model that performs the best will then be evaluated on test data\n",
    "- Data for split will be scaled and county_code will be dropped after turned into dummies."
   ]
  },
  {
   "cell_type": "code",
   "execution_count": 25,
   "id": "64560bc9",
   "metadata": {},
   "outputs": [],
   "source": [
    "#code below sets x and y train/validate to scaled data\n",
    "target = 'tax_value'\n",
    "drop_col = ['county_code']\n",
    "\n",
    "X_train = train_scaled.drop(columns=[target] + drop_col)\n",
    "y_train = train_scaled[target]\n",
    "\n",
    "X_validate = validate_scaled.drop(columns=[target] + drop_col)\n",
    "y_validate = validate_scaled[target]\n",
    "\n",
    "X_test = test_scaled.drop(columns=[target] + drop_col)\n",
    "y_test = test_scaled[target]"
   ]
  },
  {
   "cell_type": "code",
   "execution_count": 26,
   "id": "c2f434bd",
   "metadata": {},
   "outputs": [],
   "source": [
    "#assigns dataframe to variable\n",
    "y_train = pd.DataFrame(y_train)\n",
    "y_validate = pd.DataFrame(y_validate)"
   ]
  },
  {
   "cell_type": "code",
   "execution_count": 27,
   "id": "78979c1a",
   "metadata": {},
   "outputs": [],
   "source": [
    "value_pred_mean = y_train.tax_value.mean()\n",
    "y_train['value_pred_mean'] = value_pred_mean\n",
    "y_validate['value_pred_mean'] = value_pred_mean"
   ]
  },
  {
   "cell_type": "markdown",
   "id": "28a5f37c",
   "metadata": {},
   "source": [
    "### Baseline"
   ]
  },
  {
   "cell_type": "code",
   "execution_count": 28,
   "id": "b1e8bfa0",
   "metadata": {},
   "outputs": [
    {
     "data": {
      "text/html": [
       "<div>\n",
       "<style scoped>\n",
       "    .dataframe tbody tr th:only-of-type {\n",
       "        vertical-align: middle;\n",
       "    }\n",
       "\n",
       "    .dataframe tbody tr th {\n",
       "        vertical-align: top;\n",
       "    }\n",
       "\n",
       "    .dataframe thead th {\n",
       "        text-align: right;\n",
       "    }\n",
       "</style>\n",
       "<table border=\"1\" class=\"dataframe\">\n",
       "  <thead>\n",
       "    <tr style=\"text-align: right;\">\n",
       "      <th></th>\n",
       "      <th>model</th>\n",
       "      <th>Training/In-Sample</th>\n",
       "      <th>Validation/Out-of-Sample</th>\n",
       "      <th>Difference</th>\n",
       "    </tr>\n",
       "  </thead>\n",
       "  <tbody>\n",
       "    <tr>\n",
       "      <th>0</th>\n",
       "      <td>Baseline</td>\n",
       "      <td>433865.919366</td>\n",
       "      <td>428222.247788</td>\n",
       "      <td>-5643.671579</td>\n",
       "    </tr>\n",
       "  </tbody>\n",
       "</table>\n",
       "</div>"
      ],
      "text/plain": [
       "      model  Training/In-Sample  Validation/Out-of-Sample   Difference\n",
       "0  Baseline       433865.919366             428222.247788 -5643.671579"
      ]
     },
     "execution_count": 28,
     "metadata": {},
     "output_type": "execute_result"
    }
   ],
   "source": [
    "#below code creates baseline and dataframe to hold the values\n",
    "model_rmse = []\n",
    "\n",
    "\n",
    "rmse_train_mu = mean_squared_error(y_train.tax_value, y_train.value_pred_mean) **.5\n",
    "\n",
    "rmse_validate_mu = mean_squared_error(y_validate.tax_value, y_validate.value_pred_mean) **.5\n",
    "\n",
    "model_rmse.append({\n",
    "    'model': 'Baseline',\n",
    "'Training/In-Sample': rmse_train_mu, \n",
    "'Validation/Out-of-Sample': rmse_validate_mu,\n",
    "'Difference':  rmse_validate_mu - rmse_train_mu,\n",
    "\n",
    "})\n",
    "pd.DataFrame(model_rmse)"
   ]
  },
  {
   "cell_type": "markdown",
   "id": "9b59f254",
   "metadata": {},
   "source": [
    "### LinearRegression (OLS)"
   ]
  },
  {
   "cell_type": "code",
   "execution_count": 29,
   "id": "b0effccd",
   "metadata": {},
   "outputs": [
    {
     "data": {
      "text/html": [
       "<div>\n",
       "<style scoped>\n",
       "    .dataframe tbody tr th:only-of-type {\n",
       "        vertical-align: middle;\n",
       "    }\n",
       "\n",
       "    .dataframe tbody tr th {\n",
       "        vertical-align: top;\n",
       "    }\n",
       "\n",
       "    .dataframe thead th {\n",
       "        text-align: right;\n",
       "    }\n",
       "</style>\n",
       "<table border=\"1\" class=\"dataframe\">\n",
       "  <thead>\n",
       "    <tr style=\"text-align: right;\">\n",
       "      <th></th>\n",
       "      <th>model</th>\n",
       "      <th>Training/In-Sample</th>\n",
       "      <th>Validation/Out-of-Sample</th>\n",
       "      <th>Difference</th>\n",
       "    </tr>\n",
       "  </thead>\n",
       "  <tbody>\n",
       "    <tr>\n",
       "      <th>0</th>\n",
       "      <td>Baseline</td>\n",
       "      <td>433865.919366</td>\n",
       "      <td>428222.247788</td>\n",
       "      <td>-5643.671579</td>\n",
       "    </tr>\n",
       "    <tr>\n",
       "      <th>1</th>\n",
       "      <td>OLS</td>\n",
       "      <td>369926.630000</td>\n",
       "      <td>364517.280000</td>\n",
       "      <td>-5409.350000</td>\n",
       "    </tr>\n",
       "  </tbody>\n",
       "</table>\n",
       "</div>"
      ],
      "text/plain": [
       "      model  Training/In-Sample  Validation/Out-of-Sample   Difference\n",
       "0  Baseline       433865.919366             428222.247788 -5643.671579\n",
       "1       OLS       369926.630000             364517.280000 -5409.350000"
      ]
     },
     "execution_count": 29,
     "metadata": {},
     "output_type": "execute_result"
    }
   ],
   "source": [
    "\n",
    "\n",
    "# MAKE THE THING: create the model object\n",
    "OLSmodel = LinearRegression()\n",
    "\n",
    "#1. FIT THE THING: fit the model to training data\n",
    "\n",
    "OLSmodel.fit(X_train, y_train.tax_value)\n",
    "#2. USE THE THING: make a prediction\n",
    "y_train['value_pred_ols'] = OLSmodel.predict(X_train)\n",
    "\n",
    "#3. Evaluate: RMSE\n",
    "rmse_train = mean_squared_error(y_train.tax_value, y_train.value_pred_ols) **.5\n",
    "\n",
    "#4. REPEAT STEPS 2-3\n",
    "\n",
    "# predict validate\n",
    "y_validate['value_pred_ols'] = OLSmodel.predict(X_validate)\n",
    "\n",
    "# evaluate: RMSE\n",
    "rmse_validate = mean_squared_error(y_validate.tax_value, y_validate.value_pred_ols) ** .5\n",
    "\n",
    "rmse_train = round(rmse_train, 2)\n",
    "rmse_validate = round(rmse_validate, 2)\n",
    "difference = round(rmse_validate - rmse_train, 2)\n",
    "\n",
    "\n",
    "model_rmse.append({\n",
    "    'model': 'OLS',\n",
    "'Training/In-Sample': rmse_train, \n",
    "'Validation/Out-of-Sample': rmse_validate,\n",
    "'Difference':  rmse_validate - rmse_train,\n",
    "\n",
    "})\n",
    "pd.DataFrame(model_rmse)"
   ]
  },
  {
   "cell_type": "markdown",
   "id": "98c70588",
   "metadata": {},
   "source": [
    "### LassoLars"
   ]
  },
  {
   "cell_type": "code",
   "execution_count": 30,
   "id": "977dbff0",
   "metadata": {},
   "outputs": [
    {
     "data": {
      "text/html": [
       "<div>\n",
       "<style scoped>\n",
       "    .dataframe tbody tr th:only-of-type {\n",
       "        vertical-align: middle;\n",
       "    }\n",
       "\n",
       "    .dataframe tbody tr th {\n",
       "        vertical-align: top;\n",
       "    }\n",
       "\n",
       "    .dataframe thead th {\n",
       "        text-align: right;\n",
       "    }\n",
       "</style>\n",
       "<table border=\"1\" class=\"dataframe\">\n",
       "  <thead>\n",
       "    <tr style=\"text-align: right;\">\n",
       "      <th></th>\n",
       "      <th>model</th>\n",
       "      <th>Training/In-Sample</th>\n",
       "      <th>Validation/Out-of-Sample</th>\n",
       "      <th>Difference</th>\n",
       "    </tr>\n",
       "  </thead>\n",
       "  <tbody>\n",
       "    <tr>\n",
       "      <th>0</th>\n",
       "      <td>Baseline</td>\n",
       "      <td>433865.919366</td>\n",
       "      <td>428222.247788</td>\n",
       "      <td>-5643.671579</td>\n",
       "    </tr>\n",
       "    <tr>\n",
       "      <th>1</th>\n",
       "      <td>OLS</td>\n",
       "      <td>369926.630000</td>\n",
       "      <td>364517.280000</td>\n",
       "      <td>-5409.350000</td>\n",
       "    </tr>\n",
       "    <tr>\n",
       "      <th>2</th>\n",
       "      <td>LassoLars</td>\n",
       "      <td>369926.650000</td>\n",
       "      <td>364515.700000</td>\n",
       "      <td>-5410.950000</td>\n",
       "    </tr>\n",
       "  </tbody>\n",
       "</table>\n",
       "</div>"
      ],
      "text/plain": [
       "       model  Training/In-Sample  Validation/Out-of-Sample   Difference\n",
       "0   Baseline       433865.919366             428222.247788 -5643.671579\n",
       "1        OLS       369926.630000             364517.280000 -5409.350000\n",
       "2  LassoLars       369926.650000             364515.700000 -5410.950000"
      ]
     },
     "execution_count": 30,
     "metadata": {},
     "output_type": "execute_result"
    }
   ],
   "source": [
    "\n",
    "# MAKE THE THING: create the model object\n",
    "lars = LassoLars(alpha = 0.01)\n",
    "\n",
    "#1. FIT THE THING: fit the model to training data\n",
    "\n",
    "lars.fit(X_train, y_train.tax_value)\n",
    "#2. USE THE THING: make a prediction\n",
    "y_train['value_pred_lars'] = lars.predict(X_train)\n",
    "\n",
    "#3. Evaluate: RMSE\n",
    "rmse_train = mean_squared_error(y_train.tax_value, y_train.value_pred_lars) **.5\n",
    "\n",
    "#4. REPEAT STEPS 2-3\n",
    "\n",
    "# predict validate\n",
    "y_validate['value_pred_lars'] = lars.predict(X_validate)\n",
    "\n",
    "# evaluate: RMSE\n",
    "rmse_validate = mean_squared_error(y_validate.tax_value, y_validate.value_pred_lars) ** .5\n",
    "\n",
    "rmse_train = round(rmse_train, 2)\n",
    "rmse_validate = round(rmse_validate, 2)\n",
    "difference = round(rmse_validate - rmse_train, 2)\n",
    "\n",
    "\n",
    "model_rmse.append({\n",
    "    'model': 'LassoLars',\n",
    "'Training/In-Sample': rmse_train, \n",
    "'Validation/Out-of-Sample': rmse_validate,\n",
    "'Difference':  rmse_validate - rmse_train,\n",
    "\n",
    "})\n",
    "pd.DataFrame(model_rmse)"
   ]
  },
  {
   "cell_type": "markdown",
   "id": "ce86a4c1",
   "metadata": {},
   "source": [
    "### TweedieRegressor (GLM:Generalized Linear Model)"
   ]
  },
  {
   "cell_type": "code",
   "execution_count": 31,
   "id": "212d6165",
   "metadata": {},
   "outputs": [
    {
     "data": {
      "text/html": [
       "<div>\n",
       "<style scoped>\n",
       "    .dataframe tbody tr th:only-of-type {\n",
       "        vertical-align: middle;\n",
       "    }\n",
       "\n",
       "    .dataframe tbody tr th {\n",
       "        vertical-align: top;\n",
       "    }\n",
       "\n",
       "    .dataframe thead th {\n",
       "        text-align: right;\n",
       "    }\n",
       "</style>\n",
       "<table border=\"1\" class=\"dataframe\">\n",
       "  <thead>\n",
       "    <tr style=\"text-align: right;\">\n",
       "      <th></th>\n",
       "      <th>model</th>\n",
       "      <th>Training/In-Sample</th>\n",
       "      <th>Validation/Out-of-Sample</th>\n",
       "      <th>Difference</th>\n",
       "    </tr>\n",
       "  </thead>\n",
       "  <tbody>\n",
       "    <tr>\n",
       "      <th>0</th>\n",
       "      <td>Baseline</td>\n",
       "      <td>433865.919366</td>\n",
       "      <td>428222.247788</td>\n",
       "      <td>-5643.671579</td>\n",
       "    </tr>\n",
       "    <tr>\n",
       "      <th>1</th>\n",
       "      <td>OLS</td>\n",
       "      <td>369926.630000</td>\n",
       "      <td>364517.280000</td>\n",
       "      <td>-5409.350000</td>\n",
       "    </tr>\n",
       "    <tr>\n",
       "      <th>2</th>\n",
       "      <td>LassoLars</td>\n",
       "      <td>369926.650000</td>\n",
       "      <td>364515.700000</td>\n",
       "      <td>-5410.950000</td>\n",
       "    </tr>\n",
       "    <tr>\n",
       "      <th>3</th>\n",
       "      <td>GLM</td>\n",
       "      <td>408563.890000</td>\n",
       "      <td>403213.880000</td>\n",
       "      <td>-5350.010000</td>\n",
       "    </tr>\n",
       "  </tbody>\n",
       "</table>\n",
       "</div>"
      ],
      "text/plain": [
       "       model  Training/In-Sample  Validation/Out-of-Sample   Difference\n",
       "0   Baseline       433865.919366             428222.247788 -5643.671579\n",
       "1        OLS       369926.630000             364517.280000 -5409.350000\n",
       "2  LassoLars       369926.650000             364515.700000 -5410.950000\n",
       "3        GLM       408563.890000             403213.880000 -5350.010000"
      ]
     },
     "execution_count": 31,
     "metadata": {},
     "output_type": "execute_result"
    }
   ],
   "source": [
    "\n",
    "\n",
    "# MAKE THE THING: create the model object\n",
    "glm = TweedieRegressor(power = 2, alpha = 0.2)\n",
    "\n",
    "glm.fit(X_train, y_train.tax_value)\n",
    "#2. USE THE THING: make a prediction\n",
    "y_train['value_pred_glm'] = glm.predict(X_train)\n",
    "\n",
    "#3. Evaluate: RMSE\n",
    "rmse_train = mean_squared_error(y_train.tax_value, y_train.value_pred_glm) **.5\n",
    "\n",
    "#4. REPEAT STEPS 2-3\n",
    "\n",
    "# predict validate\n",
    "y_validate['value_pred_glm'] = glm.predict(X_validate)\n",
    "\n",
    "# evaluate: RMSE\n",
    "rmse_validate = mean_squared_error(y_validate.tax_value, y_validate.value_pred_glm) ** .5\n",
    "\n",
    "\n",
    "rmse_train = round(rmse_train, 2)\n",
    "rmse_validate = round(rmse_validate, 2)\n",
    "difference = round(rmse_validate - rmse_train, 2)\n",
    "\n",
    "\n",
    "model_rmse.append({\n",
    "'model': 'GLM',\n",
    "'Training/In-Sample': rmse_train, \n",
    "'Validation/Out-of-Sample': rmse_validate,\n",
    "'Difference':  rmse_validate - rmse_train,\n",
    "\n",
    "})\n",
    "pd.DataFrame(model_rmse)"
   ]
  },
  {
   "cell_type": "markdown",
   "id": "97adc642",
   "metadata": {},
   "source": [
    "### Ploynomial Regression"
   ]
  },
  {
   "cell_type": "code",
   "execution_count": 32,
   "id": "b79da6a8",
   "metadata": {},
   "outputs": [
    {
     "data": {
      "text/html": [
       "<div>\n",
       "<style scoped>\n",
       "    .dataframe tbody tr th:only-of-type {\n",
       "        vertical-align: middle;\n",
       "    }\n",
       "\n",
       "    .dataframe tbody tr th {\n",
       "        vertical-align: top;\n",
       "    }\n",
       "\n",
       "    .dataframe thead th {\n",
       "        text-align: right;\n",
       "    }\n",
       "</style>\n",
       "<table border=\"1\" class=\"dataframe\">\n",
       "  <thead>\n",
       "    <tr style=\"text-align: right;\">\n",
       "      <th></th>\n",
       "      <th>model</th>\n",
       "      <th>Training/In-Sample</th>\n",
       "      <th>Validation/Out-of-Sample</th>\n",
       "      <th>Difference</th>\n",
       "    </tr>\n",
       "  </thead>\n",
       "  <tbody>\n",
       "    <tr>\n",
       "      <th>0</th>\n",
       "      <td>Baseline</td>\n",
       "      <td>433865.919366</td>\n",
       "      <td>428222.247788</td>\n",
       "      <td>-5643.671579</td>\n",
       "    </tr>\n",
       "    <tr>\n",
       "      <th>1</th>\n",
       "      <td>OLS</td>\n",
       "      <td>369926.630000</td>\n",
       "      <td>364517.280000</td>\n",
       "      <td>-5409.350000</td>\n",
       "    </tr>\n",
       "    <tr>\n",
       "      <th>2</th>\n",
       "      <td>LassoLars</td>\n",
       "      <td>369926.650000</td>\n",
       "      <td>364515.700000</td>\n",
       "      <td>-5410.950000</td>\n",
       "    </tr>\n",
       "    <tr>\n",
       "      <th>3</th>\n",
       "      <td>GLM</td>\n",
       "      <td>408563.890000</td>\n",
       "      <td>403213.880000</td>\n",
       "      <td>-5350.010000</td>\n",
       "    </tr>\n",
       "    <tr>\n",
       "      <th>4</th>\n",
       "      <td>Poly</td>\n",
       "      <td>359127.930000</td>\n",
       "      <td>354205.710000</td>\n",
       "      <td>-4922.220000</td>\n",
       "    </tr>\n",
       "  </tbody>\n",
       "</table>\n",
       "</div>"
      ],
      "text/plain": [
       "       model  Training/In-Sample  Validation/Out-of-Sample   Difference\n",
       "0   Baseline       433865.919366             428222.247788 -5643.671579\n",
       "1        OLS       369926.630000             364517.280000 -5409.350000\n",
       "2  LassoLars       369926.650000             364515.700000 -5410.950000\n",
       "3        GLM       408563.890000             403213.880000 -5350.010000\n",
       "4       Poly       359127.930000             354205.710000 -4922.220000"
      ]
     },
     "execution_count": 32,
     "metadata": {},
     "output_type": "execute_result"
    }
   ],
   "source": [
    " \n",
    "\n",
    "# Create polynomial features\n",
    "poly = PolynomialFeatures(degree=3, include_bias=False)\n",
    "X_train_poly = poly.fit_transform(X_train)\n",
    "X_validate_poly = poly.transform(X_validate)\n",
    "\n",
    "# Fit the polynomial regression model\n",
    "poly_reg = LinearRegression()\n",
    "poly_reg.fit(X_train_poly, y_train.tax_value)\n",
    "\n",
    "# Make predictions on training set\n",
    "y_train['value_pred_poly'] = poly_reg.predict(X_train_poly)\n",
    "rmse_train = mean_squared_error(y_train.tax_value, y_train.value_pred_poly) ** 0.5\n",
    "\n",
    "# Make predictions on validation set\n",
    "y_validate['value_pred_poly'] = poly_reg.predict(X_validate_poly)\n",
    "rmse_validate = mean_squared_error(y_validate.tax_value, y_validate.value_pred_poly) ** 0.5\n",
    "\n",
    "rmse_train = round(rmse_train, 2)\n",
    "rmse_validate = round(rmse_validate, 2)\n",
    "difference = round(rmse_validate - rmse_train, 2)\n",
    "\n",
    "\n",
    "model_rmse.append({\n",
    "    'model': 'Poly',\n",
    "'Training/In-Sample': rmse_train, \n",
    "'Validation/Out-of-Sample': rmse_validate,\n",
    "'Difference':  rmse_validate - rmse_train,\n",
    "\n",
    "})\n",
    "pd.DataFrame(model_rmse)"
   ]
  },
  {
   "cell_type": "markdown",
   "id": "828b435a",
   "metadata": {},
   "source": [
    "# Comparing Models"
   ]
  },
  {
   "cell_type": "markdown",
   "id": "78b8761a",
   "metadata": {},
   "source": [
    "- All models outperformed baseline\n",
    "- LassoLars and Linear Regression models had a slightly lower error reduction at 15% better than baseline.\n",
    "- The TweedieRegressor model barely outperformed baseline by 6%.\n",
    "- Considering all models, as they did all beat baseline, Polynomial Regression model outperformed baseline by 17% which was the highest in error reduction.\n",
    "- I will be using my polynomial regression model to run on test as it performed the best for seen and unseen data with the lowest RMSE"
   ]
  },
  {
   "cell_type": "code",
   "execution_count": 33,
   "id": "f8d14278",
   "metadata": {},
   "outputs": [
    {
     "name": "stdout",
     "output_type": "stream",
     "text": [
      "RMSE on Test Set: 357684.121153635\n"
     ]
    }
   ],
   "source": [
    "#code runs test on polynomial regression\n",
    "X_test_poly = poly.transform(X_test)\n",
    "\n",
    "y_test_pred = poly_reg.predict(X_test_poly)\n",
    "\n",
    "rmse_test = mean_squared_error(y_test, y_test_pred) ** 0.5\n",
    "\n",
    "print(f\"RMSE on Test Set: {rmse_test}\")"
   ]
  },
  {
   "cell_type": "markdown",
   "id": "031abe99",
   "metadata": {},
   "source": [
    "### Modeling Summary\n",
    "- All models performed better than baseline\n",
    "- RMSE on POLY Test Set beats baselines RMSE train and RMSE validate by approximately 76,000  dollars less in error which equates to 18% error reduction from baseline\n",
    "- Polynomial was selected as the final model and had a test RMSE of 358,000 dollars"
   ]
  },
  {
   "cell_type": "markdown",
   "id": "439d7473",
   "metadata": {},
   "source": [
    "## Conclusions"
   ]
  },
  {
   "cell_type": "markdown",
   "id": "a48355eb",
   "metadata": {},
   "source": [
    "### Exploration"
   ]
  },
  {
   "cell_type": "markdown",
   "id": "a838d53b",
   "metadata": {},
   "source": [
    "- bathroom count and square footage had the strongest correlation with the target\n",
    "- county code, bedroom count, year built had a very weak correlation with the target\n",
    "- county code had the weakest relation to the home's value\n",
    "- square footage had the strongest correlation to home's value"
   ]
  },
  {
   "cell_type": "markdown",
   "id": "6e0c9ba7",
   "metadata": {},
   "source": [
    "## Modeling"
   ]
  },
  {
   "cell_type": "markdown",
   "id": "829f4f1b",
   "metadata": {},
   "source": [
    "#### The final model succeeded in outperforming the baseline RMSE by 18%. \n",
    "\n"
   ]
  },
  {
   "cell_type": "markdown",
   "id": "446efbd1",
   "metadata": {},
   "source": [
    "## Recommendations"
   ]
  },
  {
   "cell_type": "markdown",
   "id": "59048286",
   "metadata": {},
   "source": [
    "#### Utilize the Polynomial model made in order to reduce error in predicting the home's value by about 76,000 dollars"
   ]
  },
  {
   "cell_type": "markdown",
   "id": "bcef012a",
   "metadata": {},
   "source": [
    "## Next Steps"
   ]
  },
  {
   "cell_type": "markdown",
   "id": "311ca833",
   "metadata": {},
   "source": [
    "- Further explore columns in the data set to further reduce error\n",
    "- Look for more features that may have a stronger correlation than current features given to the model\n",
    "- To find a prediction with less error it may be a good idea to find the property tax in 2017 for the cities where the home is located and create a feature that approximates the homes property tax using the target feature data and the tax rate for that area."
   ]
  }
 ],
 "metadata": {
  "kernelspec": {
   "display_name": "Python 3 (ipykernel)",
   "language": "python",
   "name": "python3"
  },
  "language_info": {
   "codemirror_mode": {
    "name": "ipython",
    "version": 3
   },
   "file_extension": ".py",
   "mimetype": "text/x-python",
   "name": "python",
   "nbconvert_exporter": "python",
   "pygments_lexer": "ipython3",
   "version": "3.10.9"
  }
 },
 "nbformat": 4,
 "nbformat_minor": 5
}
