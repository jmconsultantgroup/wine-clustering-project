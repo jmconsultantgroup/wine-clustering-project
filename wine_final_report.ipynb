{
 "cells": [
  {
   "cell_type": "markdown",
   "id": "a887fef0",
   "metadata": {},
   "source": [
    "# Wine Project - Finding Drivers Of Wine Quality"
   ]
  },
  {
   "cell_type": "markdown",
   "id": "0acc8d2f",
   "metadata": {
    "tags": []
   },
   "source": [
    "# Goal\n",
    "\n",
    "- Identify Key Features: Determine the features within the dataset that exhibit strong relationship with quality of wine.\n",
    "- Build Predictive Model: Develop a model that can accurately predict wine quality based on the selected features utilizing clusters\n",
    "\n",
    "- Share Insights: Communicate the findings and model insights to the California Wine Institute data science team   supply chain marketing. for further analysis and decision-making.\n",
    "\n"
   ]
  },
  {
   "cell_type": "markdown",
   "id": "0decea94-7584-4942-b012-ff2421fd53ef",
   "metadata": {},
   "source": [
    "# Import"
   ]
  },
  {
   "cell_type": "code",
   "execution_count": 1,
   "id": "ce6a014f",
   "metadata": {
    "tags": []
   },
   "outputs": [],
   "source": [
    "#import libraries\n",
    "import wrangle_wine as w\n",
    "import pandas as pd\n",
    "import seaborn as sns\n",
    "import numpy as np\n",
    "import matplotlib.pyplot as plt\n",
    "import explore as e\n",
    "import model as m \n",
    "from sklearn.cluster import KMeans\n",
    "from sklearn.preprocessing import MinMaxScaler\n",
    "from sklearn.model_selection import train_test_split\n",
    "from sklearn.metrics import confusion_matrix\n",
    "from sklearn.linear_model import LogisticRegression\n",
    "from sklearn.ensemble import RandomForestClassifier\n",
    "from sklearn.tree import DecisionTreeClassifier, plot_tree\n",
    "from sklearn.neighbors import KNeighborsClassifier\n",
    "from sklearn.metrics import accuracy_score\n",
    "from sklearn.metrics import classification_report, confusion_matrix, ConfusionMatrixDisplay\n",
    "import scipy.stats as stats\n",
    "from scipy.stats import  chi2_contingency\n",
    "from scipy.stats import ttest_ind\n",
    "from scipy.stats import pearsonr\n",
    "import warnings\n",
    "warnings.filterwarnings('ignore')"
   ]
  },
  {
   "cell_type": "markdown",
   "id": "543e3cfb",
   "metadata": {},
   "source": [
    "# Acquire\n",
    "\n",
    "\n",
    "- Data acquired from Data.World Wine Quality Dataset(https://data.world/food/wine-quality/activity)\n",
    "- Data set has 13 columns and 6,497 rows before cleaning\n",
    "- Each row represents a unique wine\n",
    "- Each column represents wine feature\n"
   ]
  },
  {
   "cell_type": "markdown",
   "id": "c0f264ef",
   "metadata": {},
   "source": [
    "#  Prepare\n",
    "\n",
    "### Prepare Actions:\n",
    "\n",
    "- Renamed columns to promote readability\n",
    "- Checked for nulls in the data, there are no nulls\n",
    "- Data type didin't need adjustments\n",
    "- Outliers  removed\n",
    "- Encode categorical variables\n",
    "- Split data into train, validate and test (approx. 50/30/20)\n",
    "- Added column strain , which identifies if the wine is red or white\n",
    "\n",
    "- Scaled appropriate features\n",
    "\n"
   ]
  },
  {
   "cell_type": "markdown",
   "id": "bee9ce6d-46c6-4faa-9415-38be2a7e357e",
   "metadata": {},
   "source": [
    "## Data Dictionary  \n",
    "\n",
    "\n",
    "\n",
    "### Data Used\n",
    "---\n",
    "\n",
    "| Attribute           | Definition                                      | Data Type |\n",
    "|---------------------|-------------------------------------------------|-----------|\n",
    "| fixed acidity       | Amount of non-volatile acids in a substance    | float     |\n",
    "| volatile acidity    | Amount of volatile acids in a substance        | float     |\n",
    "| citric acid         | Amount of citric acid in a substance           | float     |\n",
    "| residual sugar      | Amount of residual sugar in a substance        | float     |\n",
    "| chlorides           | Concentration of chlorides in a substance      | float     |\n",
    "| free sulfur dioxide | Level of free sulfur dioxide in a substance    | float     |\n",
    "| total sulfur dioxide| Total sulfur dioxide content in a substance    | float     |\n",
    "| density             | The density of a substance                     | float     |\n",
    "| pH                  | The pH level of a substance                    | float     |\n",
    "| sulphates           | Amount of sulfates in a substance              | float     |\n",
    "| proof               | Twice the percentage of alcohol by volume      | float     |\n",
    "| quality             | The quality rating of a substance              | float     |\n",
    "| strain              | Type of wine                                   | object    |"
   ]
  },
  {
   "cell_type": "markdown",
   "id": "97bc961e-6e2a-4b85-b5dc-029171e2dccd",
   "metadata": {},
   "source": [
    "-  This data dictionary provides a clear description of each attribute, its definition, and the data type associated with each attribute. The data types are represented as \"float\" for numerical values and \"object\" for categorical values."
   ]
  },
  {
   "cell_type": "markdown",
   "id": "214736b3",
   "metadata": {},
   "source": [
    "## Quick Data Preview"
   ]
  },
  {
   "cell_type": "code",
   "execution_count": 2,
   "id": "1da5659d",
   "metadata": {
    "tags": []
   },
   "outputs": [],
   "source": [
    "# split data into train, validate and test\n",
    "train, validate, test = w.wrangle_wine()"
   ]
  },
  {
   "cell_type": "code",
   "execution_count": 3,
   "id": "3a683488",
   "metadata": {
    "tags": []
   },
   "outputs": [
    {
     "data": {
      "text/html": [
       "<div>\n",
       "<style scoped>\n",
       "    .dataframe tbody tr th:only-of-type {\n",
       "        vertical-align: middle;\n",
       "    }\n",
       "\n",
       "    .dataframe tbody tr th {\n",
       "        vertical-align: top;\n",
       "    }\n",
       "\n",
       "    .dataframe thead th {\n",
       "        text-align: right;\n",
       "    }\n",
       "</style>\n",
       "<table border=\"1\" class=\"dataframe\">\n",
       "  <thead>\n",
       "    <tr style=\"text-align: right;\">\n",
       "      <th></th>\n",
       "      <th>fixed acidity</th>\n",
       "      <th>volatile acidity</th>\n",
       "      <th>citric acid</th>\n",
       "      <th>residual sugar</th>\n",
       "      <th>chlorides</th>\n",
       "      <th>free sulfur dioxide</th>\n",
       "      <th>total sulfur dioxide</th>\n",
       "      <th>density</th>\n",
       "      <th>pH</th>\n",
       "      <th>sulphates</th>\n",
       "      <th>proof</th>\n",
       "      <th>quality</th>\n",
       "      <th>strain</th>\n",
       "      <th>quality_bin</th>\n",
       "      <th>strain_red</th>\n",
       "      <th>strain_white</th>\n",
       "    </tr>\n",
       "  </thead>\n",
       "  <tbody>\n",
       "    <tr>\n",
       "      <th>3337</th>\n",
       "      <td>7.5</td>\n",
       "      <td>0.15</td>\n",
       "      <td>0.38</td>\n",
       "      <td>1.8</td>\n",
       "      <td>0.054</td>\n",
       "      <td>19.0</td>\n",
       "      <td>101.0</td>\n",
       "      <td>0.99460</td>\n",
       "      <td>3.24</td>\n",
       "      <td>0.44</td>\n",
       "      <td>10.0</td>\n",
       "      <td>5</td>\n",
       "      <td>white</td>\n",
       "      <td>0</td>\n",
       "      <td>0</td>\n",
       "      <td>1</td>\n",
       "    </tr>\n",
       "    <tr>\n",
       "      <th>2609</th>\n",
       "      <td>7.6</td>\n",
       "      <td>0.16</td>\n",
       "      <td>0.44</td>\n",
       "      <td>1.4</td>\n",
       "      <td>0.043</td>\n",
       "      <td>25.0</td>\n",
       "      <td>109.0</td>\n",
       "      <td>0.99320</td>\n",
       "      <td>3.11</td>\n",
       "      <td>0.75</td>\n",
       "      <td>10.3</td>\n",
       "      <td>6</td>\n",
       "      <td>white</td>\n",
       "      <td>0</td>\n",
       "      <td>0</td>\n",
       "      <td>1</td>\n",
       "    </tr>\n",
       "    <tr>\n",
       "      <th>5238</th>\n",
       "      <td>6.7</td>\n",
       "      <td>0.13</td>\n",
       "      <td>0.32</td>\n",
       "      <td>3.7</td>\n",
       "      <td>0.017</td>\n",
       "      <td>32.0</td>\n",
       "      <td>99.0</td>\n",
       "      <td>0.99348</td>\n",
       "      <td>3.12</td>\n",
       "      <td>0.44</td>\n",
       "      <td>10.0</td>\n",
       "      <td>6</td>\n",
       "      <td>white</td>\n",
       "      <td>0</td>\n",
       "      <td>0</td>\n",
       "      <td>1</td>\n",
       "    </tr>\n",
       "    <tr>\n",
       "      <th>3985</th>\n",
       "      <td>6.9</td>\n",
       "      <td>0.30</td>\n",
       "      <td>0.29</td>\n",
       "      <td>1.3</td>\n",
       "      <td>0.053</td>\n",
       "      <td>24.0</td>\n",
       "      <td>189.0</td>\n",
       "      <td>0.99362</td>\n",
       "      <td>3.29</td>\n",
       "      <td>0.54</td>\n",
       "      <td>9.9</td>\n",
       "      <td>4</td>\n",
       "      <td>white</td>\n",
       "      <td>0</td>\n",
       "      <td>0</td>\n",
       "      <td>1</td>\n",
       "    </tr>\n",
       "    <tr>\n",
       "      <th>1399</th>\n",
       "      <td>7.2</td>\n",
       "      <td>0.67</td>\n",
       "      <td>0.00</td>\n",
       "      <td>2.2</td>\n",
       "      <td>0.068</td>\n",
       "      <td>10.0</td>\n",
       "      <td>24.0</td>\n",
       "      <td>0.99560</td>\n",
       "      <td>3.42</td>\n",
       "      <td>0.72</td>\n",
       "      <td>11.1</td>\n",
       "      <td>6</td>\n",
       "      <td>red</td>\n",
       "      <td>0</td>\n",
       "      <td>1</td>\n",
       "      <td>0</td>\n",
       "    </tr>\n",
       "  </tbody>\n",
       "</table>\n",
       "</div>"
      ],
      "text/plain": [
       "      fixed acidity  volatile acidity  citric acid  residual sugar  chlorides  \\\n",
       "3337            7.5              0.15         0.38             1.8      0.054   \n",
       "2609            7.6              0.16         0.44             1.4      0.043   \n",
       "5238            6.7              0.13         0.32             3.7      0.017   \n",
       "3985            6.9              0.30         0.29             1.3      0.053   \n",
       "1399            7.2              0.67         0.00             2.2      0.068   \n",
       "\n",
       "      free sulfur dioxide  total sulfur dioxide  density    pH  sulphates  \\\n",
       "3337                 19.0                 101.0  0.99460  3.24       0.44   \n",
       "2609                 25.0                 109.0  0.99320  3.11       0.75   \n",
       "5238                 32.0                  99.0  0.99348  3.12       0.44   \n",
       "3985                 24.0                 189.0  0.99362  3.29       0.54   \n",
       "1399                 10.0                  24.0  0.99560  3.42       0.72   \n",
       "\n",
       "      proof  quality strain  quality_bin  strain_red  strain_white  \n",
       "3337   10.0        5  white            0           0             1  \n",
       "2609   10.3        6  white            0           0             1  \n",
       "5238   10.0        6  white            0           0             1  \n",
       "3985    9.9        4  white            0           0             1  \n",
       "1399   11.1        6    red            0           1             0  "
      ]
     },
     "execution_count": 3,
     "metadata": {},
     "output_type": "execute_result"
    }
   ],
   "source": [
    "# this previews the training data\n",
    "train.head()"
   ]
  },
  {
   "cell_type": "code",
   "execution_count": 4,
   "id": "24e2bb64",
   "metadata": {
    "tags": []
   },
   "outputs": [],
   "source": [
    "#splits into scaled data\n",
    "train_scaled, validate_scaled, test_scaled = w.scale_data(train, validate, test)"
   ]
  },
  {
   "cell_type": "code",
   "execution_count": 5,
   "id": "30514ebb",
   "metadata": {
    "tags": []
   },
   "outputs": [
    {
     "data": {
      "text/html": [
       "<div>\n",
       "<style scoped>\n",
       "    .dataframe tbody tr th:only-of-type {\n",
       "        vertical-align: middle;\n",
       "    }\n",
       "\n",
       "    .dataframe tbody tr th {\n",
       "        vertical-align: top;\n",
       "    }\n",
       "\n",
       "    .dataframe thead th {\n",
       "        text-align: right;\n",
       "    }\n",
       "</style>\n",
       "<table border=\"1\" class=\"dataframe\">\n",
       "  <thead>\n",
       "    <tr style=\"text-align: right;\">\n",
       "      <th></th>\n",
       "      <th>fixed acidity</th>\n",
       "      <th>volatile acidity</th>\n",
       "      <th>citric acid</th>\n",
       "      <th>residual sugar</th>\n",
       "      <th>chlorides</th>\n",
       "      <th>free sulfur dioxide</th>\n",
       "      <th>total sulfur dioxide</th>\n",
       "      <th>density</th>\n",
       "      <th>pH</th>\n",
       "      <th>sulphates</th>\n",
       "      <th>proof</th>\n",
       "      <th>quality</th>\n",
       "      <th>strain</th>\n",
       "      <th>quality_bin</th>\n",
       "      <th>strain_red</th>\n",
       "      <th>strain_white</th>\n",
       "    </tr>\n",
       "  </thead>\n",
       "  <tbody>\n",
       "    <tr>\n",
       "      <th>3337</th>\n",
       "      <td>0.305785</td>\n",
       "      <td>0.052209</td>\n",
       "      <td>0.228916</td>\n",
       "      <td>0.018405</td>\n",
       "      <td>0.067002</td>\n",
       "      <td>0.123711</td>\n",
       "      <td>0.315091</td>\n",
       "      <td>0.144399</td>\n",
       "      <td>0.393701</td>\n",
       "      <td>0.125000</td>\n",
       "      <td>0.289855</td>\n",
       "      <td>5</td>\n",
       "      <td>white</td>\n",
       "      <td>0</td>\n",
       "      <td>0</td>\n",
       "      <td>1</td>\n",
       "    </tr>\n",
       "    <tr>\n",
       "      <th>2609</th>\n",
       "      <td>0.314050</td>\n",
       "      <td>0.060241</td>\n",
       "      <td>0.265060</td>\n",
       "      <td>0.012270</td>\n",
       "      <td>0.048576</td>\n",
       "      <td>0.164948</td>\n",
       "      <td>0.341625</td>\n",
       "      <td>0.117409</td>\n",
       "      <td>0.291339</td>\n",
       "      <td>0.301136</td>\n",
       "      <td>0.333333</td>\n",
       "      <td>6</td>\n",
       "      <td>white</td>\n",
       "      <td>0</td>\n",
       "      <td>0</td>\n",
       "      <td>1</td>\n",
       "    </tr>\n",
       "    <tr>\n",
       "      <th>5238</th>\n",
       "      <td>0.239669</td>\n",
       "      <td>0.036145</td>\n",
       "      <td>0.192771</td>\n",
       "      <td>0.047546</td>\n",
       "      <td>0.005025</td>\n",
       "      <td>0.213058</td>\n",
       "      <td>0.308458</td>\n",
       "      <td>0.122807</td>\n",
       "      <td>0.299213</td>\n",
       "      <td>0.125000</td>\n",
       "      <td>0.289855</td>\n",
       "      <td>6</td>\n",
       "      <td>white</td>\n",
       "      <td>0</td>\n",
       "      <td>0</td>\n",
       "      <td>1</td>\n",
       "    </tr>\n",
       "    <tr>\n",
       "      <th>3985</th>\n",
       "      <td>0.256198</td>\n",
       "      <td>0.172691</td>\n",
       "      <td>0.174699</td>\n",
       "      <td>0.010736</td>\n",
       "      <td>0.065327</td>\n",
       "      <td>0.158076</td>\n",
       "      <td>0.606965</td>\n",
       "      <td>0.125506</td>\n",
       "      <td>0.433071</td>\n",
       "      <td>0.181818</td>\n",
       "      <td>0.275362</td>\n",
       "      <td>4</td>\n",
       "      <td>white</td>\n",
       "      <td>0</td>\n",
       "      <td>0</td>\n",
       "      <td>1</td>\n",
       "    </tr>\n",
       "    <tr>\n",
       "      <th>1399</th>\n",
       "      <td>0.280992</td>\n",
       "      <td>0.469880</td>\n",
       "      <td>0.000000</td>\n",
       "      <td>0.024540</td>\n",
       "      <td>0.090452</td>\n",
       "      <td>0.061856</td>\n",
       "      <td>0.059701</td>\n",
       "      <td>0.163678</td>\n",
       "      <td>0.535433</td>\n",
       "      <td>0.284091</td>\n",
       "      <td>0.449275</td>\n",
       "      <td>6</td>\n",
       "      <td>red</td>\n",
       "      <td>0</td>\n",
       "      <td>1</td>\n",
       "      <td>0</td>\n",
       "    </tr>\n",
       "  </tbody>\n",
       "</table>\n",
       "</div>"
      ],
      "text/plain": [
       "      fixed acidity  volatile acidity  citric acid  residual sugar  chlorides  \\\n",
       "3337       0.305785          0.052209     0.228916        0.018405   0.067002   \n",
       "2609       0.314050          0.060241     0.265060        0.012270   0.048576   \n",
       "5238       0.239669          0.036145     0.192771        0.047546   0.005025   \n",
       "3985       0.256198          0.172691     0.174699        0.010736   0.065327   \n",
       "1399       0.280992          0.469880     0.000000        0.024540   0.090452   \n",
       "\n",
       "      free sulfur dioxide  total sulfur dioxide   density        pH  \\\n",
       "3337             0.123711              0.315091  0.144399  0.393701   \n",
       "2609             0.164948              0.341625  0.117409  0.291339   \n",
       "5238             0.213058              0.308458  0.122807  0.299213   \n",
       "3985             0.158076              0.606965  0.125506  0.433071   \n",
       "1399             0.061856              0.059701  0.163678  0.535433   \n",
       "\n",
       "      sulphates     proof  quality strain  quality_bin  strain_red  \\\n",
       "3337   0.125000  0.289855        5  white            0           0   \n",
       "2609   0.301136  0.333333        6  white            0           0   \n",
       "5238   0.125000  0.289855        6  white            0           0   \n",
       "3985   0.181818  0.275362        4  white            0           0   \n",
       "1399   0.284091  0.449275        6    red            0           1   \n",
       "\n",
       "      strain_white  \n",
       "3337             1  \n",
       "2609             1  \n",
       "5238             1  \n",
       "3985             1  \n",
       "1399             0  "
      ]
     },
     "execution_count": 5,
     "metadata": {},
     "output_type": "execute_result"
    }
   ],
   "source": [
    "# previews train scaled data\n",
    "train_scaled.head()"
   ]
  },
  {
   "cell_type": "markdown",
   "id": "93618fc1",
   "metadata": {},
   "source": [
    "## Data Summary"
   ]
  },
  {
   "cell_type": "code",
   "execution_count": 6,
   "id": "f43c8c46",
   "metadata": {
    "tags": []
   },
   "outputs": [
    {
     "data": {
      "text/html": [
       "<div>\n",
       "<style scoped>\n",
       "    .dataframe tbody tr th:only-of-type {\n",
       "        vertical-align: middle;\n",
       "    }\n",
       "\n",
       "    .dataframe tbody tr th {\n",
       "        vertical-align: top;\n",
       "    }\n",
       "\n",
       "    .dataframe thead th {\n",
       "        text-align: right;\n",
       "    }\n",
       "</style>\n",
       "<table border=\"1\" class=\"dataframe\">\n",
       "  <thead>\n",
       "    <tr style=\"text-align: right;\">\n",
       "      <th></th>\n",
       "      <th>fixed acidity</th>\n",
       "      <th>volatile acidity</th>\n",
       "      <th>citric acid</th>\n",
       "      <th>residual sugar</th>\n",
       "      <th>chlorides</th>\n",
       "      <th>free sulfur dioxide</th>\n",
       "      <th>total sulfur dioxide</th>\n",
       "      <th>density</th>\n",
       "      <th>pH</th>\n",
       "      <th>sulphates</th>\n",
       "      <th>proof</th>\n",
       "      <th>quality</th>\n",
       "      <th>quality_bin</th>\n",
       "      <th>strain_red</th>\n",
       "      <th>strain_white</th>\n",
       "    </tr>\n",
       "  </thead>\n",
       "  <tbody>\n",
       "    <tr>\n",
       "      <th>count</th>\n",
       "      <td>2979.000000</td>\n",
       "      <td>2979.000000</td>\n",
       "      <td>2979.000000</td>\n",
       "      <td>2979.000000</td>\n",
       "      <td>2979.000000</td>\n",
       "      <td>2979.000000</td>\n",
       "      <td>2979.000000</td>\n",
       "      <td>2979.000000</td>\n",
       "      <td>2979.000000</td>\n",
       "      <td>2979.000000</td>\n",
       "      <td>2979.000000</td>\n",
       "      <td>2979.000000</td>\n",
       "      <td>2979.000000</td>\n",
       "      <td>2979.000000</td>\n",
       "      <td>2979.000000</td>\n",
       "    </tr>\n",
       "    <tr>\n",
       "      <th>mean</th>\n",
       "      <td>7.185347</td>\n",
       "      <td>0.343679</td>\n",
       "      <td>0.312843</td>\n",
       "      <td>5.057033</td>\n",
       "      <td>0.056383</td>\n",
       "      <td>30.046828</td>\n",
       "      <td>113.733635</td>\n",
       "      <td>0.994528</td>\n",
       "      <td>3.230232</td>\n",
       "      <td>0.533118</td>\n",
       "      <td>10.544480</td>\n",
       "      <td>5.797919</td>\n",
       "      <td>0.185633</td>\n",
       "      <td>0.253441</td>\n",
       "      <td>0.746559</td>\n",
       "    </tr>\n",
       "    <tr>\n",
       "      <th>std</th>\n",
       "      <td>1.292829</td>\n",
       "      <td>0.166998</td>\n",
       "      <td>0.147245</td>\n",
       "      <td>4.546493</td>\n",
       "      <td>0.036324</td>\n",
       "      <td>17.296293</td>\n",
       "      <td>55.913432</td>\n",
       "      <td>0.002971</td>\n",
       "      <td>0.161362</td>\n",
       "      <td>0.148498</td>\n",
       "      <td>1.187491</td>\n",
       "      <td>0.872755</td>\n",
       "      <td>0.388875</td>\n",
       "      <td>0.435054</td>\n",
       "      <td>0.435054</td>\n",
       "    </tr>\n",
       "    <tr>\n",
       "      <th>min</th>\n",
       "      <td>3.800000</td>\n",
       "      <td>0.085000</td>\n",
       "      <td>0.000000</td>\n",
       "      <td>0.600000</td>\n",
       "      <td>0.014000</td>\n",
       "      <td>1.000000</td>\n",
       "      <td>6.000000</td>\n",
       "      <td>0.987110</td>\n",
       "      <td>2.740000</td>\n",
       "      <td>0.220000</td>\n",
       "      <td>8.000000</td>\n",
       "      <td>3.000000</td>\n",
       "      <td>0.000000</td>\n",
       "      <td>0.000000</td>\n",
       "      <td>0.000000</td>\n",
       "    </tr>\n",
       "    <tr>\n",
       "      <th>25%</th>\n",
       "      <td>6.400000</td>\n",
       "      <td>0.230000</td>\n",
       "      <td>0.240000</td>\n",
       "      <td>1.800000</td>\n",
       "      <td>0.038000</td>\n",
       "      <td>17.000000</td>\n",
       "      <td>74.500000</td>\n",
       "      <td>0.992300</td>\n",
       "      <td>3.120000</td>\n",
       "      <td>0.430000</td>\n",
       "      <td>9.500000</td>\n",
       "      <td>5.000000</td>\n",
       "      <td>0.000000</td>\n",
       "      <td>0.000000</td>\n",
       "      <td>0.000000</td>\n",
       "    </tr>\n",
       "    <tr>\n",
       "      <th>50%</th>\n",
       "      <td>7.000000</td>\n",
       "      <td>0.300000</td>\n",
       "      <td>0.310000</td>\n",
       "      <td>2.700000</td>\n",
       "      <td>0.047000</td>\n",
       "      <td>28.000000</td>\n",
       "      <td>116.000000</td>\n",
       "      <td>0.994600</td>\n",
       "      <td>3.220000</td>\n",
       "      <td>0.510000</td>\n",
       "      <td>10.300000</td>\n",
       "      <td>6.000000</td>\n",
       "      <td>0.000000</td>\n",
       "      <td>0.000000</td>\n",
       "      <td>1.000000</td>\n",
       "    </tr>\n",
       "    <tr>\n",
       "      <th>75%</th>\n",
       "      <td>7.700000</td>\n",
       "      <td>0.410000</td>\n",
       "      <td>0.390000</td>\n",
       "      <td>7.400000</td>\n",
       "      <td>0.066000</td>\n",
       "      <td>41.000000</td>\n",
       "      <td>153.000000</td>\n",
       "      <td>0.996730</td>\n",
       "      <td>3.340000</td>\n",
       "      <td>0.600000</td>\n",
       "      <td>11.400000</td>\n",
       "      <td>6.000000</td>\n",
       "      <td>0.000000</td>\n",
       "      <td>1.000000</td>\n",
       "      <td>1.000000</td>\n",
       "    </tr>\n",
       "    <tr>\n",
       "      <th>max</th>\n",
       "      <td>15.900000</td>\n",
       "      <td>1.330000</td>\n",
       "      <td>1.660000</td>\n",
       "      <td>65.800000</td>\n",
       "      <td>0.611000</td>\n",
       "      <td>146.500000</td>\n",
       "      <td>307.500000</td>\n",
       "      <td>1.038980</td>\n",
       "      <td>4.010000</td>\n",
       "      <td>1.980000</td>\n",
       "      <td>14.900000</td>\n",
       "      <td>9.000000</td>\n",
       "      <td>1.000000</td>\n",
       "      <td>1.000000</td>\n",
       "      <td>1.000000</td>\n",
       "    </tr>\n",
       "  </tbody>\n",
       "</table>\n",
       "</div>"
      ],
      "text/plain": [
       "       fixed acidity  volatile acidity  citric acid  residual sugar  \\\n",
       "count    2979.000000       2979.000000  2979.000000     2979.000000   \n",
       "mean        7.185347          0.343679     0.312843        5.057033   \n",
       "std         1.292829          0.166998     0.147245        4.546493   \n",
       "min         3.800000          0.085000     0.000000        0.600000   \n",
       "25%         6.400000          0.230000     0.240000        1.800000   \n",
       "50%         7.000000          0.300000     0.310000        2.700000   \n",
       "75%         7.700000          0.410000     0.390000        7.400000   \n",
       "max        15.900000          1.330000     1.660000       65.800000   \n",
       "\n",
       "         chlorides  free sulfur dioxide  total sulfur dioxide      density  \\\n",
       "count  2979.000000          2979.000000           2979.000000  2979.000000   \n",
       "mean      0.056383            30.046828            113.733635     0.994528   \n",
       "std       0.036324            17.296293             55.913432     0.002971   \n",
       "min       0.014000             1.000000              6.000000     0.987110   \n",
       "25%       0.038000            17.000000             74.500000     0.992300   \n",
       "50%       0.047000            28.000000            116.000000     0.994600   \n",
       "75%       0.066000            41.000000            153.000000     0.996730   \n",
       "max       0.611000           146.500000            307.500000     1.038980   \n",
       "\n",
       "                pH    sulphates        proof      quality  quality_bin  \\\n",
       "count  2979.000000  2979.000000  2979.000000  2979.000000  2979.000000   \n",
       "mean      3.230232     0.533118    10.544480     5.797919     0.185633   \n",
       "std       0.161362     0.148498     1.187491     0.872755     0.388875   \n",
       "min       2.740000     0.220000     8.000000     3.000000     0.000000   \n",
       "25%       3.120000     0.430000     9.500000     5.000000     0.000000   \n",
       "50%       3.220000     0.510000    10.300000     6.000000     0.000000   \n",
       "75%       3.340000     0.600000    11.400000     6.000000     0.000000   \n",
       "max       4.010000     1.980000    14.900000     9.000000     1.000000   \n",
       "\n",
       "        strain_red  strain_white  \n",
       "count  2979.000000   2979.000000  \n",
       "mean      0.253441      0.746559  \n",
       "std       0.435054      0.435054  \n",
       "min       0.000000      0.000000  \n",
       "25%       0.000000      0.000000  \n",
       "50%       0.000000      1.000000  \n",
       "75%       1.000000      1.000000  \n",
       "max       1.000000      1.000000  "
      ]
     },
     "execution_count": 6,
     "metadata": {},
     "output_type": "execute_result"
    }
   ],
   "source": [
    "# provides a quick description of the data\n",
    "train.describe()"
   ]
  },
  {
   "cell_type": "markdown",
   "id": "21af930e",
   "metadata": {},
   "source": [
    "# Explore"
   ]
  },
  {
   "cell_type": "code",
   "execution_count": 7,
   "id": "8cdb1692",
   "metadata": {
    "tags": []
   },
   "outputs": [],
   "source": [
    "# assign data frame to df variable\n",
    "df = train"
   ]
  },
  {
   "cell_type": "code",
   "execution_count": 8,
   "id": "c5b149b0",
   "metadata": {
    "tags": []
   },
   "outputs": [
    {
     "data": {
      "text/plain": [
       "Text(0.5, 1.0, 'Heat Plot')"
      ]
     },
     "execution_count": 8,
     "metadata": {},
     "output_type": "execute_result"
    },
    {
     "data": {
      "image/png": "[encoded data removed]",
      "text/plain": [
       "<Figure size 4000x600 with 2 Axes>"
      ]
     },
     "metadata": {},
     "output_type": "display_data"
    }
   ],
   "source": [
    "plt.figure(figsize=(40, 6))\n",
    "\n",
    "\n",
    "plt.subplot(132)\n",
    "sns.heatmap(train.corr()[['quality']], cmap = 'RdYlGn', vmin = -1, vmax = 1, annot = True,)\n",
    "plt.title('Heat Plot')"
   ]
  },
  {
   "cell_type": "markdown",
   "id": "21c7b035-035b-4942-aa63-b50e382806e3",
   "metadata": {},
   "source": [
    "- Three features found to be the strongest drivers of quality of wine were  proof, citric acid and free sulfur dioxide.\n",
    "\n",
    "- These features  have a medium to high correlation  with quality of wine "
   ]
  },
  {
   "cell_type": "markdown",
   "id": "84265854-c627-4dae-842c-5b7409999d21",
   "metadata": {},
   "source": [
    "## Stats Testing Selected Features Using PearsonsR"
   ]
  },
  {
   "cell_type": "raw",
   "id": "23ca53a3-e345-45f8-a597-39e0b09ac565",
   "metadata": {},
   "source": [
    "### Is proof correlated with the wine's quality?"
   ]
  },
  {
   "cell_type": "code",
   "execution_count": 9,
   "id": "fa04546c-0d72-46e4-b90c-a8501d5e6f3b",
   "metadata": {
    "tags": []
   },
   "outputs": [
    {
     "data": {
      "image/png": "[encoded data removed]",
      "text/plain": [
       "<Figure size 640x480 with 1 Axes>"
      ]
     },
     "metadata": {},
     "output_type": "display_data"
    }
   ],
   "source": [
    "sns.barplot(x=train.quality, y=train.proof)\n",
    "plt.title(\"Is proof correlated with the wine's quality?\")\n",
    "plt.xlabel(\"quality\")\n",
    "plt.ylabel(\"proof\")\n",
    "plt.show()"
   ]
  },
  {
   "cell_type": "markdown",
   "id": "6e1f5ed4-bc71-4725-a430-5b88297c6d49",
   "metadata": {},
   "source": [
    "- Visual it seems as the proof of the wine increases so does the quality"
   ]
  },
  {
   "cell_type": "markdown",
   "id": "91d1207e-8f18-4fd6-8969-dde8811351d0",
   "metadata": {},
   "source": [
    "#### I will now use a Pearsons R test to investigate whether proof and quality of the wine are correlated.\n",
    "\n",
    "- I will use a confidence interval of 95%\n",
    "- The resulting alpha is .05\n",
    "#### $H_{0}$: proof and quality are not correlated.\n",
    "#### $H_{a}$: proof and quality are correlated."
   ]
  },
  {
   "cell_type": "code",
   "execution_count": 10,
   "id": "c1eedcd3-58dc-4c10-8237-b66144416793",
   "metadata": {
    "tags": []
   },
   "outputs": [
    {
     "name": "stdout",
     "output_type": "stream",
     "text": [
      "Pearson's correlation coefficient:  0.4806700681237368\n",
      "p-value:  4.439061886953334e-172\n"
     ]
    }
   ],
   "source": [
    "# sets alpha\n",
    "alpha = 0.05\n",
    "proof = train['proof']\n",
    "quality = train['quality']\n",
    "\n",
    "# Perform Pearson's correlation test\n",
    "correlation, p_value = pearsonr(proof, quality)\n",
    "\n",
    "# Print the correlation coefficient and p-value\n",
    "print(\"Pearson's correlation coefficient: \", correlation)\n",
    "print(\"p-value: \", p_value)"
   ]
  },
  {
   "cell_type": "code",
   "execution_count": 11,
   "id": "65386b90-6828-4160-b30d-be5d731df79b",
   "metadata": {
    "tags": []
   },
   "outputs": [
    {
     "data": {
      "text/plain": [
       "True"
      ]
     },
     "execution_count": 11,
     "metadata": {},
     "output_type": "execute_result"
    }
   ],
   "source": [
    "p_value < alpha"
   ]
  },
  {
   "cell_type": "markdown",
   "id": "f1f1a099-b083-4678-af49-badd8ef8fdbe",
   "metadata": {},
   "source": [
    "####  We can reject the null hypothesis"
   ]
  },
  {
   "cell_type": "markdown",
   "id": "719ae3ea-4a32-4458-b349-3ba22026ad50",
   "metadata": {},
   "source": [
    "### Is citric acid correlated with the wine's quality?"
   ]
  },
  {
   "cell_type": "code",
   "execution_count": 12,
   "id": "ff80c31e-3701-4fa5-873a-fdc959df9a3d",
   "metadata": {
    "tags": []
   },
   "outputs": [
    {
     "data": {
      "image/png": "[encoded data removed]",
      "text/plain": [
       "<Figure size 640x480 with 1 Axes>"
      ]
     },
     "metadata": {},
     "output_type": "display_data"
    }
   ],
   "source": [
    "sns.barplot(x=train.quality, y=train['citric acid'])\n",
    "plt.title(\"Is citric acid correlated with the wine's quality?\")\n",
    "plt.xlabel(\"quality\")\n",
    "plt.ylabel(\"citric acid\")\n",
    "plt.show()"
   ]
  },
  {
   "cell_type": "markdown",
   "id": "33cbedb1-46e2-4250-b336-ac8dd5e543c7",
   "metadata": {},
   "source": [
    "- Visually we can see that the quality is much higher the more citric acid that the wine contains"
   ]
  },
  {
   "cell_type": "markdown",
   "id": "8c445077-d13a-4551-b2d3-132038fc9bb0",
   "metadata": {},
   "source": [
    "#### I will now use a Pearsons R test to investigate whether citric acid and quality of the wine are correlated.\n",
    "\n",
    "- I will use a confidence interval of 95%\n",
    "- The resulting alpha is .05\n",
    "#### $H_{0}$: citric acid and quality are not correlated.\n",
    "\n",
    "#### $H_{a}$: citric acid and quality are correlated."
   ]
  },
  {
   "cell_type": "code",
   "execution_count": 13,
   "id": "e14a8d46-72f4-4100-8af1-d4249d7bb3a7",
   "metadata": {
    "tags": []
   },
   "outputs": [
    {
     "name": "stdout",
     "output_type": "stream",
     "text": [
      "Pearson's correlation coefficient:  0.11225955145615578\n",
      "p-value:  8.046463019989137e-10\n"
     ]
    }
   ],
   "source": [
    "# sets alpha\n",
    "alpha = 0.05\n",
    "proof = train['citric acid']\n",
    "quality = train['quality']\n",
    "\n",
    "# Perform Pearson's correlation test\n",
    "correlation, p_value = pearsonr(proof, quality)\n",
    "\n",
    "# Print the correlation coefficient and p-value\n",
    "print(\"Pearson's correlation coefficient: \", correlation)\n",
    "print(\"p-value: \", p_value)"
   ]
  },
  {
   "cell_type": "code",
   "execution_count": 14,
   "id": "8d81cf3a-a4c0-4509-8808-9193eef397d8",
   "metadata": {
    "tags": []
   },
   "outputs": [
    {
     "data": {
      "text/plain": [
       "True"
      ]
     },
     "execution_count": 14,
     "metadata": {},
     "output_type": "execute_result"
    }
   ],
   "source": [
    "p_value < alpha"
   ]
  },
  {
   "cell_type": "markdown",
   "id": "20af9e08-2605-4681-9efe-7795e41d9ce9",
   "metadata": {},
   "source": [
    "#### We can reject the null hypothesis"
   ]
  },
  {
   "cell_type": "markdown",
   "id": "be6495ce-efb0-486b-8920-d9d0747928b5",
   "metadata": {},
   "source": [
    "### Is free sulfur dioxide correlated with the wine's quality?"
   ]
  },
  {
   "cell_type": "code",
   "execution_count": 15,
   "id": "d1b7d3e3-06de-4183-811c-81d5c50a0bb6",
   "metadata": {
    "tags": []
   },
   "outputs": [
    {
     "data": {
      "image/png": "[encoded data removed]",
      "text/plain": [
       "<Figure size 640x480 with 1 Axes>"
      ]
     },
     "metadata": {},
     "output_type": "display_data"
    }
   ],
   "source": [
    "sns.barplot(x=train.quality, y=train['free sulfur dioxide'])\n",
    "plt.title(\"Is free sulfur dioxide correlated with the wine's quality?\")\n",
    "plt.xlabel(\"quality\")\n",
    "plt.ylabel(\"free sulfur dioxide\")\n",
    "plt.show()"
   ]
  },
  {
   "cell_type": "markdown",
   "id": "3f7283e4-7c2f-407d-937d-c8e5e0674db7",
   "metadata": {},
   "source": [
    "- Looking at this barplot it looks like the highest free sulfur dioxide, and the lowest, obtain higher quality scores"
   ]
  },
  {
   "cell_type": "markdown",
   "id": "48e55256-a022-42cf-b230-41e69bbde18f",
   "metadata": {},
   "source": [
    "#### I will now use a Pearsons R test to investigate whether proof and quality of the wine are correlated.\n",
    "\n",
    "- I will use a confidence interval of 95%\n",
    "- The resulting alpha is .05\n",
    "#### $H_{0}$: free sulfur dioxide and quality are not correlated.\n",
    "#### $H_{a}$: free sulfur dioxide and quality are correlated."
   ]
  },
  {
   "cell_type": "code",
   "execution_count": 16,
   "id": "f91a84f8-95d3-46f8-aebd-2a23ca41787b",
   "metadata": {
    "tags": []
   },
   "outputs": [
    {
     "name": "stdout",
     "output_type": "stream",
     "text": [
      "Pearson's correlation coefficient:  0.055471815658097244\n",
      "p-value:  0.0024558802131494175\n"
     ]
    }
   ],
   "source": [
    "# sets alpha\n",
    "alpha = 0.05\n",
    "proof = train['free sulfur dioxide']\n",
    "quality = train['quality']\n",
    "\n",
    "# Perform Pearson's correlation test\n",
    "correlation, p_value = pearsonr(proof, quality)\n",
    "\n",
    "# Print the correlation coefficient and p-value\n",
    "print(\"Pearson's correlation coefficient: \", correlation)\n",
    "print(\"p-value: \", p_value)"
   ]
  },
  {
   "cell_type": "code",
   "execution_count": 17,
   "id": "8d6f6cc4-b2c7-4209-8d7d-fa692892a62b",
   "metadata": {
    "tags": []
   },
   "outputs": [
    {
     "data": {
      "text/plain": [
       "True"
      ]
     },
     "execution_count": 17,
     "metadata": {},
     "output_type": "execute_result"
    }
   ],
   "source": [
    "p_value < alpha"
   ]
  },
  {
   "cell_type": "markdown",
   "id": "7b508c2f",
   "metadata": {},
   "source": [
    "## Exploration Summary\n",
    "Proof, citric acide and free sulfur dioxide were each found to be drivers of \"quality\"\n",
    "\n",
    "- Revisisting data for more reasonable number features in future especially with stronger correlations\n",
    "\n",
    "* All columns were found to be drivers of the quality"
   ]
  },
  {
   "cell_type": "markdown",
   "id": "6aa359a7",
   "metadata": {},
   "source": [
    "## Features moving forward for modeling"
   ]
  },
  {
   "cell_type": "markdown",
   "id": "32358a15",
   "metadata": {},
   "source": [
    "- Proof will be moving forward.\n",
    "- Citric acid will be moving forward.\n",
    "- Free sulfur dioxide will be moving forward.\n"
   ]
  },
  {
   "cell_type": "markdown",
   "id": "bdcd3226",
   "metadata": {},
   "source": [
    "## Features not moving forward for modeling"
   ]
  },
  {
   "cell_type": "markdown",
   "id": "29eef51f",
   "metadata": {},
   "source": [
    "No features left out for modeling"
   ]
  },
  {
   "cell_type": "markdown",
   "id": "80340c71",
   "metadata": {},
   "source": [
    "## Modeling"
   ]
  },
  {
   "cell_type": "markdown",
   "id": "2238047d",
   "metadata": {},
   "source": [
    "- I will use accuracy as my evaluation metric\n",
    "- by guessing quality for every wine, one could achieve an accuracy of 45%. \n",
    "- 45% will be the baseline accuracy I use for this project\n",
    "- I will be evaluating top 3 models developed out of 36 different classification models.\n",
    "- Models will be evaluated on train and validate data \n",
    "- The model that performs the best will then be evaluated on test data\n",
    "- Data for split will be scaled."
   ]
  },
  {
   "cell_type": "code",
   "execution_count": 18,
   "id": "022d9417-d0e7-4d26-bda1-79472d37a530",
   "metadata": {},
   "outputs": [],
   "source": [
    "k_values = [3, 4, 5, 6]\n",
    "\n",
    "for k in k_values:\n",
    "    \n",
    "    kmeans = KMeans(n_clusters=k, random_state=123)\n",
    "    \n",
    "\n",
    "    train[f'cluster_k{k}'] = kmeans.fit_predict(train.drop(columns=['fixed acidity', 'volatile acidity', 'residual sugar',\n",
    "       'chlorides', 'total sulfur dioxide', 'density',\n",
    "       'pH', 'sulphates', 'quality', 'strain', 'quality_bin',\n",
    "       'strain_red', 'strain_white'],))"
   ]
  },
  {
   "cell_type": "markdown",
   "id": "28a5f37c",
   "metadata": {},
   "source": [
    "### Baseline"
   ]
  },
  {
   "cell_type": "code",
   "execution_count": 19,
   "id": "b1e8bfa0",
   "metadata": {
    "tags": []
   },
   "outputs": [],
   "source": [
    "majority_class = train['quality'].value_counts().idxmax()\n",
    "majority_count = train['quality'].value_counts().max()\n",
    "\n",
    "\n",
    "total_instances = len(train['quality_bin'])\n",
    "\n",
    "\n",
    "baseline_accuracy = majority_count / total_instances\n",
    "\n",
    "results_df = pd.DataFrame(columns=['Cluster_Column', 'Train_Accuracy', 'Validation_Accuracy'])\n",
    "results_df = results_df.append({'Cluster_Column': 'Baseline',\n",
    "                                'Train_Accuracy': baseline_accuracy,\n",
    "                                'Validation_Accuracy':'n/a',\n",
    "                               'Score_Diff': 0},\n",
    "                               ignore_index=True)"
   ]
  },
  {
   "cell_type": "code",
   "execution_count": 20,
   "id": "cf4ecd5b-09a3-4196-a492-ac586344f06d",
   "metadata": {
    "tags": []
   },
   "outputs": [
    {
     "data": {
      "text/html": [
       "<div>\n",
       "<style scoped>\n",
       "    .dataframe tbody tr th:only-of-type {\n",
       "        vertical-align: middle;\n",
       "    }\n",
       "\n",
       "    .dataframe tbody tr th {\n",
       "        vertical-align: top;\n",
       "    }\n",
       "\n",
       "    .dataframe thead th {\n",
       "        text-align: right;\n",
       "    }\n",
       "</style>\n",
       "<table border=\"1\" class=\"dataframe\">\n",
       "  <thead>\n",
       "    <tr style=\"text-align: right;\">\n",
       "      <th></th>\n",
       "      <th>Cluster_Column</th>\n",
       "      <th>Train_Accuracy</th>\n",
       "      <th>Validation_Accuracy</th>\n",
       "      <th>Score_Diff</th>\n",
       "    </tr>\n",
       "  </thead>\n",
       "  <tbody>\n",
       "    <tr>\n",
       "      <th>0</th>\n",
       "      <td>Baseline</td>\n",
       "      <td>0.448137</td>\n",
       "      <td>n/a</td>\n",
       "      <td>0.0</td>\n",
       "    </tr>\n",
       "  </tbody>\n",
       "</table>\n",
       "</div>"
      ],
      "text/plain": [
       "  Cluster_Column  Train_Accuracy Validation_Accuracy  Score_Diff\n",
       "0       Baseline        0.448137                 n/a         0.0"
      ]
     },
     "execution_count": 20,
     "metadata": {},
     "output_type": "execute_result"
    }
   ],
   "source": [
    "results_df"
   ]
  },
  {
   "cell_type": "markdown",
   "id": "9b59f254",
   "metadata": {},
   "source": [
    "### 3 Feature LogisticRegression (LogReg)"
   ]
  },
  {
   "cell_type": "code",
   "execution_count": 21,
   "id": "b0effccd",
   "metadata": {
    "tags": []
   },
   "outputs": [],
   "source": [
    "X = train[['proof', 'citric acid','free sulfur dioxide']]\n",
    "y = train['quality']\n",
    "\n",
    "\n",
    "X_train, X_val, y_train, y_val = train_test_split(X, y, test_size=0.2, random_state=123)\n",
    "\n",
    "\n",
    "scaler = MinMaxScaler()\n",
    "X_train_scaled = scaler.fit_transform(X_train)\n",
    "X_val_scaled = scaler.transform(X_val)\n",
    "\n",
    "\n",
    "model = LogisticRegression(random_state=123)\n",
    "model.fit(X_train_scaled, y_train)\n",
    "\n",
    "y_train_pred = model.predict(X_train_scaled)\n",
    "y_val_pred = model.predict(X_val_scaled)\n",
    "\n",
    "train_accuracy = accuracy_score(y_train, y_train_pred)\n",
    "val_accuracy = accuracy_score(y_val, y_val_pred)\n",
    "\n",
    "\n",
    "\n",
    "results_df = results_df.append({'Cluster_Column': '3 feature LogReg',\n",
    "                                'Train_Accuracy': train_accuracy,\n",
    "                                'Validation_Accuracy': val_accuracy,\n",
    "                               'Score_Diff': abs(round(train_accuracy - val_accuracy, 2))},\n",
    "                               ignore_index=True)"
   ]
  },
  {
   "cell_type": "code",
   "execution_count": 22,
   "id": "540bc792-5be8-47d3-b72f-ec8cbe24a677",
   "metadata": {
    "tags": []
   },
   "outputs": [
    {
     "data": {
      "text/html": [
       "<div>\n",
       "<style scoped>\n",
       "    .dataframe tbody tr th:only-of-type {\n",
       "        vertical-align: middle;\n",
       "    }\n",
       "\n",
       "    .dataframe tbody tr th {\n",
       "        vertical-align: top;\n",
       "    }\n",
       "\n",
       "    .dataframe thead th {\n",
       "        text-align: right;\n",
       "    }\n",
       "</style>\n",
       "<table border=\"1\" class=\"dataframe\">\n",
       "  <thead>\n",
       "    <tr style=\"text-align: right;\">\n",
       "      <th></th>\n",
       "      <th>Cluster_Column</th>\n",
       "      <th>Train_Accuracy</th>\n",
       "      <th>Validation_Accuracy</th>\n",
       "      <th>Score_Diff</th>\n",
       "    </tr>\n",
       "  </thead>\n",
       "  <tbody>\n",
       "    <tr>\n",
       "      <th>0</th>\n",
       "      <td>Baseline</td>\n",
       "      <td>0.448137</td>\n",
       "      <td>n/a</td>\n",
       "      <td>0.00</td>\n",
       "    </tr>\n",
       "    <tr>\n",
       "      <th>1</th>\n",
       "      <td>3 feature LogReg</td>\n",
       "      <td>0.530424</td>\n",
       "      <td>0.521812</td>\n",
       "      <td>0.01</td>\n",
       "    </tr>\n",
       "  </tbody>\n",
       "</table>\n",
       "</div>"
      ],
      "text/plain": [
       "     Cluster_Column  Train_Accuracy Validation_Accuracy  Score_Diff\n",
       "0          Baseline        0.448137                 n/a        0.00\n",
       "1  3 feature LogReg        0.530424            0.521812        0.01"
      ]
     },
     "execution_count": 22,
     "metadata": {},
     "output_type": "execute_result"
    }
   ],
   "source": [
    "results_df"
   ]
  },
  {
   "cell_type": "markdown",
   "id": "98c70588",
   "metadata": {},
   "source": [
    "### cluster_k6 with proof, free sulfur dioxide, citric acid LogReg"
   ]
  },
  {
   "cell_type": "code",
   "execution_count": 23,
   "id": "977dbff0",
   "metadata": {
    "tags": []
   },
   "outputs": [],
   "source": [
    "\n",
    "X = train[['proof', 'citric acid','free sulfur dioxide', 'cluster_k6']]\n",
    "y = train['quality']\n",
    "\n",
    "   \n",
    "X_train, X_val, y_train, y_val = train_test_split(X, y, test_size=0.2, random_state=123)\n",
    "\n",
    "scaler = MinMaxScaler()\n",
    "X_train_scaled = scaler.fit_transform(X_train)\n",
    "X_val_scaled = scaler.transform(X_val)\n",
    "model = LogisticRegression(random_state=123)\n",
    "model.fit(X_train_scaled, y_train)\n",
    "\n",
    "y_train_pred = model.predict(X_train_scaled)\n",
    "y_val_pred = model.predict(X_val_scaled)\n",
    "\n",
    "train_accuracy = accuracy_score(y_train, y_train_pred)\n",
    "val_accuracy = accuracy_score(y_val, y_val_pred)\n",
    "\n",
    "results_df = results_df.append({'Cluster_Column': 'cluster_k6 with proof, free sulfur dioxide, citric acid LogReg',\n",
    "                                    'Train_Accuracy': train_accuracy,\n",
    "                                    'Validation_Accuracy': val_accuracy,\n",
    "                                   'Score_Diff': abs(round(train_accuracy - val_accuracy, 2))},\n",
    "                                   ignore_index=True)"
   ]
  },
  {
   "cell_type": "code",
   "execution_count": 25,
   "id": "b61618f6-ae50-48b8-b4ed-009fb959fb97",
   "metadata": {
    "tags": []
   },
   "outputs": [
    {
     "data": {
      "text/html": [
       "<div>\n",
       "<style scoped>\n",
       "    .dataframe tbody tr th:only-of-type {\n",
       "        vertical-align: middle;\n",
       "    }\n",
       "\n",
       "    .dataframe tbody tr th {\n",
       "        vertical-align: top;\n",
       "    }\n",
       "\n",
       "    .dataframe thead th {\n",
       "        text-align: right;\n",
       "    }\n",
       "</style>\n",
       "<table border=\"1\" class=\"dataframe\">\n",
       "  <thead>\n",
       "    <tr style=\"text-align: right;\">\n",
       "      <th></th>\n",
       "      <th>Cluster_Column</th>\n",
       "      <th>Train_Accuracy</th>\n",
       "      <th>Validation_Accuracy</th>\n",
       "      <th>Score_Diff</th>\n",
       "    </tr>\n",
       "  </thead>\n",
       "  <tbody>\n",
       "    <tr>\n",
       "      <th>0</th>\n",
       "      <td>Baseline</td>\n",
       "      <td>0.448137</td>\n",
       "      <td>n/a</td>\n",
       "      <td>0.00</td>\n",
       "    </tr>\n",
       "    <tr>\n",
       "      <th>1</th>\n",
       "      <td>3 feature LogReg</td>\n",
       "      <td>0.530424</td>\n",
       "      <td>0.521812</td>\n",
       "      <td>0.01</td>\n",
       "    </tr>\n",
       "    <tr>\n",
       "      <th>2</th>\n",
       "      <td>cluster_k6 with proof, free sulfur dioxide, citric acid LogReg</td>\n",
       "      <td>0.528745</td>\n",
       "      <td>0.525168</td>\n",
       "      <td>0.00</td>\n",
       "    </tr>\n",
       "  </tbody>\n",
       "</table>\n",
       "</div>"
      ],
      "text/plain": [
       "                                                   Cluster_Column  \\\n",
       "0                                                        Baseline   \n",
       "1                                                3 feature LogReg   \n",
       "2  cluster_k6 with proof, free sulfur dioxide, citric acid LogReg   \n",
       "\n",
       "   Train_Accuracy Validation_Accuracy  Score_Diff  \n",
       "0        0.448137                 n/a        0.00  \n",
       "1        0.530424            0.521812        0.01  \n",
       "2        0.528745            0.525168        0.00  "
      ]
     },
     "execution_count": 25,
     "metadata": {},
     "output_type": "execute_result"
    }
   ],
   "source": [
    "results_df"
   ]
  },
  {
   "cell_type": "markdown",
   "id": "ce86a4c1",
   "metadata": {},
   "source": [
    "### cluster_k5 with proof, free sulfur dioxide, citric acid LogReg"
   ]
  },
  {
   "cell_type": "code",
   "execution_count": 26,
   "id": "212d6165",
   "metadata": {},
   "outputs": [],
   "source": [
    "\n",
    "X = train[['proof', 'citric acid','free sulfur dioxide', 'cluster_k5']]\n",
    "y = train['quality']\n",
    "\n",
    "   \n",
    "X_train, X_val, y_train, y_val = train_test_split(X, y, test_size=0.2, random_state=123)\n",
    "\n",
    "scaler = MinMaxScaler()\n",
    "X_train_scaled = scaler.fit_transform(X_train)\n",
    "X_val_scaled = scaler.transform(X_val)\n",
    "model = LogisticRegression(random_state=123)\n",
    "model.fit(X_train_scaled, y_train)\n",
    "\n",
    "y_train_pred = model.predict(X_train_scaled)\n",
    "y_val_pred = model.predict(X_val_scaled)\n",
    "\n",
    "train_accuracy = accuracy_score(y_train, y_train_pred)\n",
    "val_accuracy = accuracy_score(y_val, y_val_pred)\n",
    "\n",
    "results_df = results_df.append({'Cluster_Column': 'cluster_k5 with proof, free sulfur dioxide, citric acid LogReg',\n",
    "                                    'Train_Accuracy': train_accuracy,\n",
    "                                    'Validation_Accuracy': val_accuracy,\n",
    "                                   'Score_Diff': abs(round(train_accuracy - val_accuracy, 2))},\n",
    "                                   ignore_index=True)"
   ]
  },
  {
   "cell_type": "code",
   "execution_count": 27,
   "id": "cd84c046-b5e4-47fe-bb49-f4438a4de4a5",
   "metadata": {
    "tags": []
   },
   "outputs": [
    {
     "data": {
      "text/html": [
       "<div>\n",
       "<style scoped>\n",
       "    .dataframe tbody tr th:only-of-type {\n",
       "        vertical-align: middle;\n",
       "    }\n",
       "\n",
       "    .dataframe tbody tr th {\n",
       "        vertical-align: top;\n",
       "    }\n",
       "\n",
       "    .dataframe thead th {\n",
       "        text-align: right;\n",
       "    }\n",
       "</style>\n",
       "<table border=\"1\" class=\"dataframe\">\n",
       "  <thead>\n",
       "    <tr style=\"text-align: right;\">\n",
       "      <th></th>\n",
       "      <th>Cluster_Column</th>\n",
       "      <th>Train_Accuracy</th>\n",
       "      <th>Validation_Accuracy</th>\n",
       "      <th>Score_Diff</th>\n",
       "    </tr>\n",
       "  </thead>\n",
       "  <tbody>\n",
       "    <tr>\n",
       "      <th>0</th>\n",
       "      <td>Baseline</td>\n",
       "      <td>0.448137</td>\n",
       "      <td>n/a</td>\n",
       "      <td>0.00</td>\n",
       "    </tr>\n",
       "    <tr>\n",
       "      <th>1</th>\n",
       "      <td>3 feature LogReg</td>\n",
       "      <td>0.530424</td>\n",
       "      <td>0.521812</td>\n",
       "      <td>0.01</td>\n",
       "    </tr>\n",
       "    <tr>\n",
       "      <th>2</th>\n",
       "      <td>cluster_k6 with proof, free sulfur dioxide, citric acid LogReg</td>\n",
       "      <td>0.528745</td>\n",
       "      <td>0.525168</td>\n",
       "      <td>0.00</td>\n",
       "    </tr>\n",
       "    <tr>\n",
       "      <th>3</th>\n",
       "      <td>cluster_k5 with proof, free sulfur dioxide, citric acid LogReg</td>\n",
       "      <td>0.529165</td>\n",
       "      <td>0.526846</td>\n",
       "      <td>0.00</td>\n",
       "    </tr>\n",
       "  </tbody>\n",
       "</table>\n",
       "</div>"
      ],
      "text/plain": [
       "                                                   Cluster_Column  \\\n",
       "0                                                        Baseline   \n",
       "1                                                3 feature LogReg   \n",
       "2  cluster_k6 with proof, free sulfur dioxide, citric acid LogReg   \n",
       "3  cluster_k5 with proof, free sulfur dioxide, citric acid LogReg   \n",
       "\n",
       "   Train_Accuracy Validation_Accuracy  Score_Diff  \n",
       "0        0.448137                 n/a        0.00  \n",
       "1        0.530424            0.521812        0.01  \n",
       "2        0.528745            0.525168        0.00  \n",
       "3        0.529165            0.526846        0.00  "
      ]
     },
     "execution_count": 27,
     "metadata": {},
     "output_type": "execute_result"
    }
   ],
   "source": [
    "results_df"
   ]
  },
  {
   "cell_type": "markdown",
   "id": "828b435a",
   "metadata": {},
   "source": [
    "# Comparing Models"
   ]
  },
  {
   "cell_type": "markdown",
   "id": "78b8761a",
   "metadata": {},
   "source": [
    "- Based on the information provided, it seems that the The 3 Feature Logistic Regression model has the highest accuracy with lowest amount of features at 52% validation accuracy , which is 7% better than baseline. \n",
    "- On the other hand, the \"cluster_k6 with proof, free sulfur dioxide, citric acid LogReg\" model had the same validate score but included an additional cluster feature.\n",
    "- The \"cluster_k5 with proof, free sulfur dioxide, citric acid LogReg model\" also had an additional feature with the same validate score.\n",
    "- Considering all models, as they did all beat baseline, the 3 Feature LogReg model was picked as most optimal as it contained the lowest amount of features for the same scoring outputs.\n"
   ]
  },
  {
   "cell_type": "code",
   "execution_count": 28,
   "id": "f8d14278",
   "metadata": {},
   "outputs": [
    {
     "name": "stdout",
     "output_type": "stream",
     "text": [
      "Training Accuracy: 0.5304238355014688\n",
      "Validation Accuracy: 0.5218120805369127\n",
      "Test Accuracy: 0.5028195488721805\n"
     ]
    }
   ],
   "source": [
    "X = train[['proof', 'citric acid','free sulfur dioxide']]\n",
    "y = train['quality']\n",
    "\n",
    "X_train, X_val, y_train, y_val = train_test_split(X, y, test_size=0.2, random_state=123)\n",
    "\n",
    "\n",
    "scaler = MinMaxScaler()\n",
    "X_train_scaled = scaler.fit_transform(X_train)\n",
    "X_val_scaled = scaler.transform(X_val)\n",
    "\n",
    "model = LogisticRegression(random_state = 123)  \n",
    "model.fit(X_train_scaled, y_train)\n",
    "\n",
    "\n",
    "\n",
    "y_train_pred = model.predict(X_train_scaled)\n",
    "y_val_pred = model.predict(X_val_scaled)\n",
    "\n",
    "train_accuracy = accuracy_score(y_train, y_train_pred)\n",
    "val_accuracy = accuracy_score(y_val, y_val_pred)\n",
    "\n",
    "# Step 7: Print the training and validation accuracies\n",
    "print(\"Training Accuracy:\", train_accuracy)\n",
    "print(\"Validation Accuracy:\", val_accuracy)\n",
    "\n",
    "\n",
    "X_test = test[['proof', 'citric acid', 'free sulfur dioxide']]\n",
    "y_test = test['quality']\n",
    "X_test_scaled = scaler.transform(X_test)\n",
    "\n",
    "y_test_pred = model.predict(X_test_scaled)\n",
    "\n",
    "test_accuracy = accuracy_score(y_test, y_test_pred)\n",
    "\n",
    "print(\"Test Accuracy:\", test_accuracy)"
   ]
  },
  {
   "cell_type": "markdown",
   "id": "031abe99",
   "metadata": {},
   "source": [
    "### Modeling Summary\n",
    "- All models performed better than baseline\n",
    "- Test score for 3 Feature Logistic Regression was 50% which is 5% higher than baseline.\n",
    "- 3 Feature LogisticRegression was used as it contained less features and same output"
   ]
  },
  {
   "cell_type": "markdown",
   "id": "439d7473",
   "metadata": {},
   "source": [
    "## Conclusions"
   ]
  },
  {
   "cell_type": "markdown",
   "id": "a48355eb",
   "metadata": {},
   "source": [
    "### Exploration Summary "
   ]
  },
  {
   "cell_type": "markdown",
   "id": "a838d53b",
   "metadata": {},
   "source": [
    "- The three features, \"proof,\" \"citric acid,\" and \"free sulfur dioxide,\" were identified as significant drivers of wine quality.\n",
    "- It is advisable to explore data with a more reasonable number of features, considering stronger correlations with the target variable.\n",
    "- The feautures were found to influence wine quality positively.\n",
    "- Features moving forward for modeling are: \"Proof,\" \"Citric Acid,\" and \"Free Sulfur Dioxide.\"\n",
    "- No features were excluded from modeling."
   ]
  },
  {
   "cell_type": "markdown",
   "id": "6e0c9ba7",
   "metadata": {},
   "source": [
    "## Modeling"
   ]
  },
  {
   "cell_type": "markdown",
   "id": "829f4f1b",
   "metadata": {},
   "source": [
    "#### The final model succeeded in outperforming the baseline by 5%. \n",
    "\n"
   ]
  },
  {
   "cell_type": "markdown",
   "id": "446efbd1",
   "metadata": {},
   "source": [
    "## Recommendations"
   ]
  },
  {
   "cell_type": "markdown",
   "id": "59048286",
   "metadata": {},
   "source": [
    "#### Utilize the 3 Feature Logistic Regression model made in order to increase accuracy from baseline by 5 more percent."
   ]
  },
  {
   "cell_type": "markdown",
   "id": "bcef012a",
   "metadata": {},
   "source": [
    "## Reproduce"
   ]
  },
  {
   "cell_type": "markdown",
   "id": "311ca833",
   "metadata": {},
   "source": [
    "- Install necessary python packages.\n",
    "- Clone the wine_clustering_project repository.\n",
    "- Download files from https://data.world/food/wine-quality\n",
    "- Unzip and store the  csv files in the wine_clustering_project folder.\n",
    "- Ensure the wrangle.py, explore.py and model.py files are in the same folder as the wine_final_report.ipynb notebook.\n"
   ]
  }
 ],
 "metadata": {
  "kernelspec": {
   "display_name": "Python 3 (ipykernel)",
   "language": "python",
   "name": "python3"
  },
  "language_info": {
   "codemirror_mode": {
    "name": "ipython",
    "version": 3
   },
   "file_extension": ".py",
   "mimetype": "text/x-python",
   "name": "python",
   "nbconvert_exporter": "python",
   "pygments_lexer": "ipython3",
   "version": "3.10.9"
  }
 },
 "nbformat": 4,
 "nbformat_minor": 5
}
